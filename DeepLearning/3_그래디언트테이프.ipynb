{
  "nbformat": 4,
  "nbformat_minor": 0,
  "metadata": {
    "colab": {
      "provenance": [],
      "authorship_tag": "ABX9TyMUN+IwPTXwqoUPpayMI/+s",
      "include_colab_link": true
    },
    "kernelspec": {
      "name": "python3",
      "display_name": "Python 3"
    },
    "language_info": {
      "name": "python"
    }
  },
  "cells": [
    {
      "cell_type": "markdown",
      "metadata": {
        "id": "view-in-github",
        "colab_type": "text"
      },
      "source": [
        "<a href=\"https://colab.research.google.com/github/JiwonDu/DA-learning-course/blob/main/DeepLearning/3_%EA%B7%B8%EB%9E%98%EB%94%94%EC%96%B8%ED%8A%B8%ED%85%8C%EC%9D%B4%ED%94%84.ipynb\" target=\"_parent\"><img src=\"https://colab.research.google.com/assets/colab-badge.svg\" alt=\"Open In Colab\"/></a>"
      ]
    },
    {
      "cell_type": "code",
      "execution_count": 2,
      "metadata": {
        "colab": {
          "base_uri": "https://localhost:8080/"
        },
        "id": "XtozMLZuaCI5",
        "outputId": "2d2e9ac6-0aea-4486-9356-a7f0905d48dd"
      },
      "outputs": [
        {
          "output_type": "execute_result",
          "data": {
            "text/plain": [
              "<tf.Tensor: shape=(), dtype=float32, numpy=2.0>"
            ]
          },
          "metadata": {},
          "execution_count": 2
        }
      ],
      "source": [
        "import tensorflow as tf\n",
        "\n",
        "# 1. scala값의 기울기 계산\n",
        "x = tf.Variable(0.)\n",
        "\n",
        "with tf.GradientTape() as tape:\n",
        "\n",
        "  # y를 계산하기 위한 규칙\n",
        "  y = 2*x + 3\n",
        "\n",
        "grad_y_x = tape.gradient(y,x)\n",
        "grad_y_x"
      ]
    },
    {
      "cell_type": "code",
      "source": [
        "# 2. 행렬의 기울기 계산\n",
        "\n",
        "x = tf.Variable(tf.random.uniform((2,2)))\n",
        "\n",
        "with tf.GradientTape() as tape:\n",
        "  y = 2*x + 3\n",
        "\n",
        "grad_y_x = tape.gradient(y,x)\n",
        "grad_y_x"
      ],
      "metadata": {
        "colab": {
          "base_uri": "https://localhost:8080/"
        },
        "id": "cqlaftl9a14a",
        "outputId": "4acb5f3d-f00b-461b-90ee-21aba250faec"
      },
      "execution_count": 3,
      "outputs": [
        {
          "output_type": "execute_result",
          "data": {
            "text/plain": [
              "<tf.Tensor: shape=(2, 2), dtype=float32, numpy=\n",
              "array([[2., 2.],\n",
              "       [2., 2.]], dtype=float32)>"
            ]
          },
          "metadata": {},
          "execution_count": 3
        }
      ]
    },
    {
      "cell_type": "code",
      "source": [
        "# 3. 선형함수의 기울기 w 계산\n",
        "\n",
        "# 가중치 = 기울기\n",
        "W = tf.Variable(tf.random.uniform((2,2)))\n",
        "b = tf.Variable(tf.zeros((2,)))\n",
        "\n",
        "x = tf.random.uniform((2,2))\n",
        "\n",
        "with tf.GradientTape() as tape:\n",
        "  y = tf.matmul(x,W) + b # w*x 선형함수식\n",
        "\n",
        "grad_y_x = tape.gradient(y,[W,b]) #편미분\n",
        "grad_y_x"
      ],
      "metadata": {
        "colab": {
          "base_uri": "https://localhost:8080/"
        },
        "id": "POZG_DCVbrO8",
        "outputId": "e21c9eea-eb69-444e-ba88-4a20a2726234"
      },
      "execution_count": 4,
      "outputs": [
        {
          "output_type": "execute_result",
          "data": {
            "text/plain": [
              "[<tf.Tensor: shape=(2, 2), dtype=float32, numpy=\n",
              " array([[1.1565545 , 1.1565545 ],\n",
              "        [0.87926733, 0.87926733]], dtype=float32)>,\n",
              " <tf.Tensor: shape=(2,), dtype=float32, numpy=array([2., 2.], dtype=float32)>]"
            ]
          },
          "metadata": {},
          "execution_count": 4
        }
      ]
    },
    {
      "cell_type": "code",
      "source": [],
      "metadata": {
        "id": "nHIlPlB6dLWz"
      },
      "execution_count": null,
      "outputs": []
    }
  ]
}
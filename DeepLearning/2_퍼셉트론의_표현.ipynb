{
  "nbformat": 4,
  "nbformat_minor": 0,
  "metadata": {
    "colab": {
      "provenance": [],
      "toc_visible": true,
      "authorship_tag": "ABX9TyO3zdlKfI0msTvCZ/6Ntq5J",
      "include_colab_link": true
    },
    "kernelspec": {
      "name": "python3",
      "display_name": "Python 3"
    },
    "language_info": {
      "name": "python"
    }
  },
  "cells": [
    {
      "cell_type": "markdown",
      "metadata": {
        "id": "view-in-github",
        "colab_type": "text"
      },
      "source": [
        "<a href=\"https://colab.research.google.com/github/JiwonDu/DA-learning-course/blob/main/DeepLearning/2_%ED%8D%BC%EC%85%89%ED%8A%B8%EB%A1%A0%EC%9D%98_%ED%91%9C%ED%98%84.ipynb\" target=\"_parent\"><img src=\"https://colab.research.google.com/assets/colab-badge.svg\" alt=\"Open In Colab\"/></a>"
      ]
    },
    {
      "cell_type": "markdown",
      "source": [
        "# 논리게이트의 이해\n",
        "\n",
        "and w1*x1 + w2*x2 = y\n",
        "1 1 = 1 ->  0.5\\*1 + 0.5\\*1 = 1 > 0.7  \n",
        "0 0 = 0 -> 0.5\\*0 + 0.5\\*0 = 0 < 0.7  \n",
        "0 1 = 0 -> 0.5\\*0 + 0.5\\*1 = 0.5 < 0.7  \n",
        "1 0 = 0 -> 0.5\\*0 + 0.5\\*1 = 0.5 < 0.7  \n"
      ],
      "metadata": {
        "id": "I3tuN6r-LCUU"
      }
    },
    {
      "cell_type": "code",
      "execution_count": 1,
      "metadata": {
        "id": "0q7t3HAHKozh"
      },
      "outputs": [],
      "source": [
        "def AND(x1, x2) :\n",
        "  w1, w2, theta = 0.5, 0.5, 0.7 # 가중치\n",
        "  tmp = x1*w1 + x2*w2\n",
        "  if tmp <= theta :\n",
        "    return 0\n",
        "  elif tmp > theta :\n",
        "    return 1\n"
      ]
    },
    {
      "cell_type": "code",
      "source": [
        "print(AND(0,0), AND(1,0), AND(0,1), AND(1,1))"
      ],
      "metadata": {
        "colab": {
          "base_uri": "https://localhost:8080/"
        },
        "id": "XkQlX4iKMIvn",
        "outputId": "ebf0be35-edf1-46f9-f11b-2fbf96e82ba3"
      },
      "execution_count": 5,
      "outputs": [
        {
          "output_type": "stream",
          "name": "stdout",
          "text": [
            "0 0 0 1\n"
          ]
        }
      ]
    },
    {
      "cell_type": "code",
      "source": [
        "def OR(x1, x2) :\n",
        "  w1, w2, theta = 0.5, 0.5, 0.2 # 가중치\n",
        "  tmp = x1*w1 + x2*w2\n",
        "  if tmp <= theta :\n",
        "    return 0\n",
        "  elif tmp > theta :\n",
        "    return 1"
      ],
      "metadata": {
        "id": "yn20Sj73MPaP"
      },
      "execution_count": 6,
      "outputs": []
    },
    {
      "cell_type": "code",
      "source": [
        "print(OR(0,0), OR(1,0), OR(0,1), OR(1,1))"
      ],
      "metadata": {
        "colab": {
          "base_uri": "https://localhost:8080/"
        },
        "id": "vH6wzQ8MQkUq",
        "outputId": "08b9cb21-3b74-4674-be9d-e3960deaa264"
      },
      "execution_count": 7,
      "outputs": [
        {
          "output_type": "stream",
          "name": "stdout",
          "text": [
            "0 1 1 1\n"
          ]
        }
      ]
    },
    {
      "cell_type": "markdown",
      "source": [
        "# 뉴런으로 정의한 논리 게이트"
      ],
      "metadata": {
        "id": "CNGpdk4VR7IG"
      }
    },
    {
      "cell_type": "code",
      "source": [
        "import numpy as np\n",
        "\n",
        "def AND(x1, x2):\n",
        "  x = np.array([x1, x2])\n",
        "  w = np.array([0.5, 0.5])\n",
        "  b = -0.7\n",
        "  tmp = np.sum(x*w) + b\n",
        "  if tmp<=0:\n",
        "    return 0\n",
        "  else :\n",
        "    return 1"
      ],
      "metadata": {
        "id": "lXB9rVWYQquI"
      },
      "execution_count": 11,
      "outputs": []
    },
    {
      "cell_type": "code",
      "source": [
        "print(AND(0,0), AND(1,0), AND(0,1), AND(1,1))"
      ],
      "metadata": {
        "colab": {
          "base_uri": "https://localhost:8080/"
        },
        "id": "kwJsYSXdSZVU",
        "outputId": "bfcb09c3-b59f-4b68-f48a-cee5049cc44b"
      },
      "execution_count": 12,
      "outputs": [
        {
          "output_type": "stream",
          "name": "stdout",
          "text": [
            "0 0 0 1\n"
          ]
        }
      ]
    },
    {
      "cell_type": "code",
      "source": [
        "def OR(x1, x2):\n",
        "  x = np.array([x1, x2])\n",
        "  w = np.array([0.5, 0.5])\n",
        "  b = -0.2\n",
        "  tmp = np.sum(x*w) + b\n",
        "  if tmp<=0:\n",
        "    return 0\n",
        "  else :\n",
        "    return 1"
      ],
      "metadata": {
        "id": "RhOUnv4VRjVh"
      },
      "execution_count": 14,
      "outputs": []
    },
    {
      "cell_type": "code",
      "source": [
        "print(OR(0,0), OR(1,0), OR(0,1), OR(1,1))"
      ],
      "metadata": {
        "colab": {
          "base_uri": "https://localhost:8080/"
        },
        "id": "btyplYqaSdpS",
        "outputId": "61b8bad9-af03-4981-efd4-8adb042f69d9"
      },
      "execution_count": 15,
      "outputs": [
        {
          "output_type": "stream",
          "name": "stdout",
          "text": [
            "0 1 1 1\n"
          ]
        }
      ]
    },
    {
      "cell_type": "code",
      "source": [
        "# NAND 게이트\n",
        "def NAND(x1, x2):\n",
        "    x = np.array([x1, x2])\n",
        "    w = np.array([-0.5, -0.5])  # 가중치\n",
        "    b = 0.7  # 바이어스\n",
        "    tmp = np.sum(w * x) + b\n",
        "    return 1 if tmp > 0 else 0"
      ],
      "metadata": {
        "id": "lr3KMObURodx"
      },
      "execution_count": 16,
      "outputs": []
    },
    {
      "cell_type": "code",
      "source": [
        "print(NAND(0,0), NAND(1,0), NAND(0,1), NAND(1,1))"
      ],
      "metadata": {
        "colab": {
          "base_uri": "https://localhost:8080/"
        },
        "id": "R1kbEX1MRxC0",
        "outputId": "e3b8f5a5-20c4-4b05-e3cc-681daa9d7b05"
      },
      "execution_count": 17,
      "outputs": [
        {
          "output_type": "stream",
          "name": "stdout",
          "text": [
            "1 1 1 0\n"
          ]
        }
      ]
    },
    {
      "cell_type": "markdown",
      "source": [
        "# 다층 퍼셉트론 Multi Layer Perceptron\n",
        "```\n",
        "x1 x2   nand  or  and = y\n",
        "0  0      1   0      0\n",
        "1  0      1   1      1\n",
        "0  1      1   1      1\n",
        "1  1      0   0      0\n",
        "```"
      ],
      "metadata": {
        "id": "UfTM5_tOTM1n"
      }
    },
    {
      "cell_type": "code",
      "source": [
        "def XOR(x1, x2):\n",
        "  s1 = NAND(x1, x2)\n",
        "  s2 = OR(x1, x2)\n",
        "  y = AND(s1, s2)\n",
        "  return y"
      ],
      "metadata": {
        "id": "29aPcHo8ULWb"
      },
      "execution_count": 19,
      "outputs": []
    },
    {
      "cell_type": "code",
      "source": [
        "print(XOR(0,0), XOR(1,0), XOR(0,1), XOR(1,1))"
      ],
      "metadata": {
        "colab": {
          "base_uri": "https://localhost:8080/"
        },
        "id": "ATtx3rMmUXEs",
        "outputId": "a29c8570-cec5-4ed3-8df0-cc7cb525ba0a"
      },
      "execution_count": 20,
      "outputs": [
        {
          "output_type": "stream",
          "name": "stdout",
          "text": [
            "0 1 1 0\n"
          ]
        }
      ]
    },
    {
      "cell_type": "markdown",
      "source": [
        "> 핵심\n",
        "1. 퍼셉트론은 입력과 출력이 있는 알고리즘이다. 입력을 정해진 규칙에 따라 계산해서 출력한다.\n",
        "2. 퍼셉트론은 가중치와 편향(바이어스)를 이용해서 매개변수로 설정한다.\n",
        "3. 퍼셉트론 하나로 AND, OR 같은 논리 게이트를 구성할 수 있다. - 선형\n",
        "4. XOR 같은 복합논리는 퍼셉트론을 연결해서 처리한다. - 비선형\n",
        "5. XOR는 2단 퍼셉트론으로 구성할 수 있다.\n",
        "\n",
        "- 교재 2.4 참고"
      ],
      "metadata": {
        "id": "MiiBWpbgVjmH"
      }
    },
    {
      "cell_type": "code",
      "source": [
        "# 61p. 손글씨 데이터셋\n",
        "from tensorflow.keras.datasets import mnist\n",
        "(train_images, train_labels), (test_images, test_labels) = mnist.load_data()"
      ],
      "metadata": {
        "colab": {
          "base_uri": "https://localhost:8080/"
        },
        "id": "toGph4ahV2oz",
        "outputId": "1d97335c-9938-48c7-f35f-595afc7d1170"
      },
      "execution_count": 22,
      "outputs": [
        {
          "output_type": "stream",
          "name": "stdout",
          "text": [
            "Downloading data from https://storage.googleapis.com/tensorflow/tf-keras-datasets/mnist.npz\n",
            "\u001b[1m11490434/11490434\u001b[0m \u001b[32m━━━━━━━━━━━━━━━━━━━━\u001b[0m\u001b[37m\u001b[0m \u001b[1m0s\u001b[0m 0us/step\n"
          ]
        }
      ]
    },
    {
      "cell_type": "code",
      "source": [
        "train_images.shape"
      ],
      "metadata": {
        "colab": {
          "base_uri": "https://localhost:8080/"
        },
        "id": "QoDyGbYHan_K",
        "outputId": "ed600482-0f33-4e49-9fec-3b2e6567511c"
      },
      "execution_count": 23,
      "outputs": [
        {
          "output_type": "execute_result",
          "data": {
            "text/plain": [
              "(60000, 28, 28)"
            ]
          },
          "metadata": {},
          "execution_count": 23
        }
      ]
    },
    {
      "cell_type": "code",
      "source": [
        "len(train_labels)"
      ],
      "metadata": {
        "colab": {
          "base_uri": "https://localhost:8080/"
        },
        "id": "4GD8_oXQatzk",
        "outputId": "60a38ed6-1f5b-4593-9dbd-9f622c65c623"
      },
      "execution_count": 24,
      "outputs": [
        {
          "output_type": "execute_result",
          "data": {
            "text/plain": [
              "60000"
            ]
          },
          "metadata": {},
          "execution_count": 24
        }
      ]
    },
    {
      "cell_type": "code",
      "source": [
        "train_labels[:5]"
      ],
      "metadata": {
        "colab": {
          "base_uri": "https://localhost:8080/"
        },
        "id": "jWHqWVxea6lp",
        "outputId": "968c075d-01c3-4c64-875d-3f72cb628fb0"
      },
      "execution_count": 26,
      "outputs": [
        {
          "output_type": "execute_result",
          "data": {
            "text/plain": [
              "array([5, 0, 4, 1, 9], dtype=uint8)"
            ]
          },
          "metadata": {},
          "execution_count": 26
        }
      ]
    },
    {
      "cell_type": "code",
      "source": [
        "from tensorflow import keras\n",
        "from tensorflow.keras import layers\n",
        "\n",
        "model = keras.Sequential([\n",
        "    layers.Dense(512, activation=\"relu\"),\n",
        "    layers.Dense(10, activation=\"softmax\")\n",
        "])"
      ],
      "metadata": {
        "id": "AJ98DYeCbJH6"
      },
      "execution_count": 27,
      "outputs": []
    },
    {
      "cell_type": "code",
      "source": [
        "model.compile(\n",
        "    optimizer=\"rmsprop\",\n",
        "    loss=\"sparse_categorical_crossentropy\",\n",
        "    metrics=[\"accuracy\"]\n",
        ")"
      ],
      "metadata": {
        "id": "YtaxI2wbb6GP"
      },
      "execution_count": 29,
      "outputs": []
    },
    {
      "cell_type": "code",
      "source": [
        "train_images = train_images.reshape((60000, 28*28)).astype(\"float32\") / 255\n",
        "test_images = test_images.reshape((10000, 28*28)).astype(\"float32\") / 255"
      ],
      "metadata": {
        "id": "1rlVIJBDcblm"
      },
      "execution_count": 30,
      "outputs": []
    },
    {
      "cell_type": "code",
      "source": [
        "model.fit(train_images, train_labels, epochs=5, batch_size=128)"
      ],
      "metadata": {
        "colab": {
          "base_uri": "https://localhost:8080/"
        },
        "id": "m_fTTatMdGlf",
        "outputId": "cd690692-fd64-4fdb-d2d4-cf9c8282da8a"
      },
      "execution_count": 32,
      "outputs": [
        {
          "output_type": "stream",
          "name": "stdout",
          "text": [
            "Epoch 1/5\n",
            "\u001b[1m469/469\u001b[0m \u001b[32m━━━━━━━━━━━━━━━━━━━━\u001b[0m\u001b[37m\u001b[0m \u001b[1m6s\u001b[0m 11ms/step - accuracy: 0.8742 - loss: 0.4386\n",
            "Epoch 2/5\n",
            "\u001b[1m469/469\u001b[0m \u001b[32m━━━━━━━━━━━━━━━━━━━━\u001b[0m\u001b[37m\u001b[0m \u001b[1m7s\u001b[0m 15ms/step - accuracy: 0.9656 - loss: 0.1196\n",
            "Epoch 3/5\n",
            "\u001b[1m469/469\u001b[0m \u001b[32m━━━━━━━━━━━━━━━━━━━━\u001b[0m\u001b[37m\u001b[0m \u001b[1m8s\u001b[0m 11ms/step - accuracy: 0.9774 - loss: 0.0757\n",
            "Epoch 4/5\n",
            "\u001b[1m469/469\u001b[0m \u001b[32m━━━━━━━━━━━━━━━━━━━━\u001b[0m\u001b[37m\u001b[0m \u001b[1m6s\u001b[0m 14ms/step - accuracy: 0.9844 - loss: 0.0512\n",
            "Epoch 5/5\n",
            "\u001b[1m469/469\u001b[0m \u001b[32m━━━━━━━━━━━━━━━━━━━━\u001b[0m\u001b[37m\u001b[0m \u001b[1m9s\u001b[0m 11ms/step - accuracy: 0.9887 - loss: 0.0401\n"
          ]
        },
        {
          "output_type": "execute_result",
          "data": {
            "text/plain": [
              "<keras.src.callbacks.history.History at 0x7fdadfba2e30>"
            ]
          },
          "metadata": {},
          "execution_count": 32
        }
      ]
    },
    {
      "cell_type": "code",
      "source": [
        "test_digits = test_images[0:10]\n",
        "predictions = model.predict(test_digits)\n",
        "predictions[0]"
      ],
      "metadata": {
        "colab": {
          "base_uri": "https://localhost:8080/"
        },
        "id": "0O9OwXAKdLaa",
        "outputId": "1d7ef02b-23a1-45ff-a586-f50e0c6f8584"
      },
      "execution_count": 33,
      "outputs": [
        {
          "output_type": "stream",
          "name": "stdout",
          "text": [
            "\u001b[1m1/1\u001b[0m \u001b[32m━━━━━━━━━━━━━━━━━━━━\u001b[0m\u001b[37m\u001b[0m \u001b[1m0s\u001b[0m 51ms/step\n"
          ]
        },
        {
          "output_type": "execute_result",
          "data": {
            "text/plain": [
              "array([1.1552741e-08, 4.9836451e-09, 4.9230056e-07, 7.0148312e-06,\n",
              "       1.7391096e-10, 1.9201142e-08, 4.4149289e-12, 9.9999160e-01,\n",
              "       1.4996996e-08, 8.4068182e-07], dtype=float32)"
            ]
          },
          "metadata": {},
          "execution_count": 33
        }
      ]
    },
    {
      "cell_type": "code",
      "source": [
        "predictions[0].argmax()"
      ],
      "metadata": {
        "colab": {
          "base_uri": "https://localhost:8080/"
        },
        "id": "lSkBVGq8glq_",
        "outputId": "d812bb01-d54f-4994-ab4e-cc375f8dd33a"
      },
      "execution_count": 34,
      "outputs": [
        {
          "output_type": "execute_result",
          "data": {
            "text/plain": [
              "7"
            ]
          },
          "metadata": {},
          "execution_count": 34
        }
      ]
    },
    {
      "cell_type": "code",
      "source": [
        "test_labels[0]"
      ],
      "metadata": {
        "colab": {
          "base_uri": "https://localhost:8080/"
        },
        "id": "dLykdRAFg7JJ",
        "outputId": "ea5f6270-9529-43b1-ed96-1be085fc2ec6"
      },
      "execution_count": 35,
      "outputs": [
        {
          "output_type": "execute_result",
          "data": {
            "text/plain": [
              "7"
            ]
          },
          "metadata": {},
          "execution_count": 35
        }
      ]
    },
    {
      "cell_type": "code",
      "source": [
        "test_loss, test_acc = model.evaluate(test_images, test_labels)\n",
        "print(f\"test_acc: {test_acc}\")"
      ],
      "metadata": {
        "colab": {
          "base_uri": "https://localhost:8080/"
        },
        "id": "sHVdhQ-0hsH6",
        "outputId": "75a325d8-dfd2-43b2-d66e-518dce15ffbf"
      },
      "execution_count": 36,
      "outputs": [
        {
          "output_type": "stream",
          "name": "stdout",
          "text": [
            "\u001b[1m313/313\u001b[0m \u001b[32m━━━━━━━━━━━━━━━━━━━━\u001b[0m\u001b[37m\u001b[0m \u001b[1m2s\u001b[0m 5ms/step - accuracy: 0.9767 - loss: 0.0780\n",
            "test_acc: 0.9799000024795532\n"
          ]
        }
      ]
    },
    {
      "cell_type": "markdown",
      "source": [
        "# 신경망을 위한 데이터 표현"
      ],
      "metadata": {
        "id": "PhGelNwJixoA"
      }
    },
    {
      "cell_type": "markdown",
      "source": [
        "## 스칼라(랭크-0 텐서)\n",
        "- 스칼라(scalar) : 하나의 숫자만 담고 있는 텐서\n",
        "- 스칼라 텐서, 랭크-0텐서, 0D 텐서\n",
        "- 스칼라 텐서의 축의 개수(랭크) = 0"
      ],
      "metadata": {
        "id": "1xuuHRE2jQy4"
      }
    },
    {
      "cell_type": "code",
      "source": [
        "import numpy as np\n",
        "x = np.array(12)\n",
        "x"
      ],
      "metadata": {
        "colab": {
          "base_uri": "https://localhost:8080/"
        },
        "id": "vp-_rBfSiz2C",
        "outputId": "5909f88e-9e0c-4f5a-8732-21ecbf8517dd"
      },
      "execution_count": 37,
      "outputs": [
        {
          "output_type": "execute_result",
          "data": {
            "text/plain": [
              "array(12)"
            ]
          },
          "metadata": {},
          "execution_count": 37
        }
      ]
    },
    {
      "cell_type": "code",
      "source": [
        "x.ndim"
      ],
      "metadata": {
        "colab": {
          "base_uri": "https://localhost:8080/"
        },
        "id": "c6LPRytxjoKJ",
        "outputId": "bb2c6ee9-d986-4661-e1af-64b280512b88"
      },
      "execution_count": 38,
      "outputs": [
        {
          "output_type": "execute_result",
          "data": {
            "text/plain": [
              "0"
            ]
          },
          "metadata": {},
          "execution_count": 38
        }
      ]
    },
    {
      "cell_type": "markdown",
      "source": [
        "## 벡터(랭크-1 텐서)\n",
        "\n",
        "- 벡터(Vector) : 숫자의 배열\n",
        "- 랭크-1 텐서, 1D 텐서\n",
        "- 축의 개수 = 1"
      ],
      "metadata": {
        "id": "Y5fk3EgcjrOn"
      }
    },
    {
      "cell_type": "code",
      "source": [
        "x = np.array([12, 3, 6, 14, 7])\n",
        "x"
      ],
      "metadata": {
        "colab": {
          "base_uri": "https://localhost:8080/"
        },
        "id": "Pd9AUoWDjpmd",
        "outputId": "123fe208-ea7a-4de9-bfeb-7be7f790b2a9"
      },
      "execution_count": 39,
      "outputs": [
        {
          "output_type": "execute_result",
          "data": {
            "text/plain": [
              "array([12,  3,  6, 14,  7])"
            ]
          },
          "metadata": {},
          "execution_count": 39
        }
      ]
    },
    {
      "cell_type": "code",
      "source": [
        "x.ndim"
      ],
      "metadata": {
        "colab": {
          "base_uri": "https://localhost:8080/"
        },
        "id": "_IFLc0WkkBe1",
        "outputId": "66fc1978-0c76-4a10-bbe2-2267004a0c0d"
      },
      "execution_count": 40,
      "outputs": [
        {
          "output_type": "execute_result",
          "data": {
            "text/plain": [
              "1"
            ]
          },
          "metadata": {},
          "execution_count": 40
        }
      ]
    },
    {
      "cell_type": "markdown",
      "source": [
        "- 5개의 원소를 가지고 있으므로 5차원 벡터임 (벡터와 텐서 혼동하지 말것)\n",
        "  - 5D 벡터 : 하나의 축을 따라 5개의 차원을 가짐\n",
        "  - 5D 텐서 : 5개의 축을 가진 것"
      ],
      "metadata": {
        "id": "wSJlv46ykGV6"
      }
    },
    {
      "cell_type": "markdown",
      "source": [
        "## 행렬(랭크-2 텐서)\n",
        "\n",
        "- 행렬(matrix) : 벡터의 배열\n",
        "- 랭크-2 텐서, 2D 텐서\n",
        "- 축의 개수 : 2개"
      ],
      "metadata": {
        "id": "1ZFW2X2plgQw"
      }
    },
    {
      "cell_type": "code",
      "source": [
        "x = np.array([[5, 78, 2, 34, 0],\n",
        "              [6, 79, 3, 35, 1],\n",
        "              [7, 80, 4, 36, 2]])\n",
        "x.ndim"
      ],
      "metadata": {
        "colab": {
          "base_uri": "https://localhost:8080/"
        },
        "id": "xkffwaiEkDII",
        "outputId": "8d13f81c-ba29-4c98-aa86-ccb1a8ce8641"
      },
      "execution_count": 41,
      "outputs": [
        {
          "output_type": "execute_result",
          "data": {
            "text/plain": [
              "2"
            ]
          },
          "metadata": {},
          "execution_count": 41
        }
      ]
    },
    {
      "cell_type": "markdown",
      "source": [
        "- 첫 번째 축에 놓여 있는 원소: 행, [5, 78, 2, 34, 0]\n",
        "- 두 번째 축에 놓여 있는 원소: 열, [5, 6, 7]"
      ],
      "metadata": {
        "id": "XPGnNMdjlyyB"
      }
    },
    {
      "cell_type": "markdown",
      "source": [
        "## 랭크-3 텐서와 더 높은 랭크의 텐서\n",
        "\n",
        "- 행렬들을 하나의 새로운 배열로 합쳐 숫자가 채워진 직육면체 형태로 해석할 수 있는 텐서\n",
        "- 3D 텐서"
      ],
      "metadata": {
        "id": "DUCo12_4mDD4"
      }
    },
    {
      "cell_type": "code",
      "source": [
        "x = np.array([[[5, 78, 2, 34, 0],\n",
        "               [6, 79, 3, 35, 1],\n",
        "               [7, 80, 4, 36, 2]],\n",
        "              [[5, 78, 2, 34, 0],\n",
        "               [6, 79, 3, 35, 1],\n",
        "               [7, 80, 4, 36, 2]],\n",
        "              [[5, 78, 2, 34, 0],\n",
        "               [6, 79, 3, 35, 1],\n",
        "               [7, 80, 4, 36, 2]]])\n",
        "x.ndim"
      ],
      "metadata": {
        "colab": {
          "base_uri": "https://localhost:8080/"
        },
        "id": "wW4h53EglxEo",
        "outputId": "dcfd33d0-c150-46ee-d96b-101ff9c39597"
      },
      "execution_count": 42,
      "outputs": [
        {
          "output_type": "execute_result",
          "data": {
            "text/plain": [
              "3"
            ]
          },
          "metadata": {},
          "execution_count": 42
        }
      ]
    },
    {
      "cell_type": "markdown",
      "source": [
        "- 랭크-3 텐서들을 하나의 배열로 합치면 랭크-4 텐서\n",
        "- 딥러닝에서는 보통 랭크 0~4까지 다룸 (동영상 데이터는 5까지 가기도 함)"
      ],
      "metadata": {
        "id": "QiP5C-DYmeYV"
      }
    },
    {
      "cell_type": "markdown",
      "source": [
        "## 핵심 속성\n",
        "\n",
        "- 랭크(축의 개수, ndim) / 크기(shape) / 데이터 타입(dtype)"
      ],
      "metadata": {
        "id": "57E7tr-imuKf"
      }
    },
    {
      "cell_type": "code",
      "source": [
        "from tensorflow.keras.datasets import mnist\n",
        "(train_images, train_labels), (test_images, test_labels) = mnist.load_data()"
      ],
      "metadata": {
        "id": "h7ClKonumTbG"
      },
      "execution_count": 43,
      "outputs": []
    },
    {
      "cell_type": "code",
      "source": [
        "train_images.ndim"
      ],
      "metadata": {
        "colab": {
          "base_uri": "https://localhost:8080/"
        },
        "id": "8JZYXzAlnVkM",
        "outputId": "2dd891c7-e2fd-4188-ee61-ad6d595543c5"
      },
      "execution_count": 44,
      "outputs": [
        {
          "output_type": "execute_result",
          "data": {
            "text/plain": [
              "3"
            ]
          },
          "metadata": {},
          "execution_count": 44
        }
      ]
    },
    {
      "cell_type": "code",
      "source": [
        "train_images.shape"
      ],
      "metadata": {
        "colab": {
          "base_uri": "https://localhost:8080/"
        },
        "id": "CGcd0hg-nYd4",
        "outputId": "0195d5d4-ad2a-4262-cce3-39644e731192"
      },
      "execution_count": 45,
      "outputs": [
        {
          "output_type": "execute_result",
          "data": {
            "text/plain": [
              "(60000, 28, 28)"
            ]
          },
          "metadata": {},
          "execution_count": 45
        }
      ]
    },
    {
      "cell_type": "code",
      "source": [
        "train_images.dtype"
      ],
      "metadata": {
        "colab": {
          "base_uri": "https://localhost:8080/"
        },
        "id": "cvK5BIeQnaxd",
        "outputId": "86c34b32-9c3a-404e-dd38-9637035049f0"
      },
      "execution_count": 46,
      "outputs": [
        {
          "output_type": "execute_result",
          "data": {
            "text/plain": [
              "dtype('uint8')"
            ]
          },
          "metadata": {},
          "execution_count": 46
        }
      ]
    },
    {
      "cell_type": "code",
      "source": [
        "import matplotlib.pyplot as plt\n",
        "digit = train_images[4]\n",
        "plt.imshow(digit, cmap=plt.cm.binary)\n",
        "plt.show()"
      ],
      "metadata": {
        "colab": {
          "base_uri": "https://localhost:8080/",
          "height": 430
        },
        "id": "cAhXbbjInfiQ",
        "outputId": "e273dd1f-7e60-4362-f1c4-2f22ad5b0333"
      },
      "execution_count": 47,
      "outputs": [
        {
          "output_type": "display_data",
          "data": {
            "text/plain": [
              "<Figure size 640x480 with 1 Axes>"
            ],
            "image/png": "[encoded data removed]"
          },
          "metadata": {}
        }
      ]
    },
    {
      "cell_type": "code",
      "source": [
        "train_labels[4]"
      ],
      "metadata": {
        "colab": {
          "base_uri": "https://localhost:8080/"
        },
        "id": "x8LpwUIGoh6y",
        "outputId": "340c3c2e-891e-4bc9-f0f4-79acf93338e6"
      },
      "execution_count": 49,
      "outputs": [
        {
          "output_type": "execute_result",
          "data": {
            "text/plain": [
              "9"
            ]
          },
          "metadata": {},
          "execution_count": 49
        }
      ]
    },
    {
      "cell_type": "markdown",
      "source": [
        "## 넘파이로 텐서 조작하기\n",
        "\n",
        "- 슬라이싱 : 배열에 있는 특정 원소 선택"
      ],
      "metadata": {
        "id": "vWBMGc9aonEZ"
      }
    },
    {
      "cell_type": "code",
      "source": [
        "my_slice = train_images[10:100]\n",
        "my_slice.shape"
      ],
      "metadata": {
        "colab": {
          "base_uri": "https://localhost:8080/"
        },
        "id": "DGu89Xgyolep",
        "outputId": "26fed357-8b6e-4556-86f8-ea0bb47bc726"
      },
      "execution_count": 50,
      "outputs": [
        {
          "output_type": "execute_result",
          "data": {
            "text/plain": [
              "(90, 28, 28)"
            ]
          },
          "metadata": {},
          "execution_count": 50
        }
      ]
    },
    {
      "cell_type": "code",
      "source": [
        "my_slice = train_images[10:100, :, :]\n",
        "my_slice.shape"
      ],
      "metadata": {
        "colab": {
          "base_uri": "https://localhost:8080/"
        },
        "id": "ZhGgn_Jko2-7",
        "outputId": "58ac3aa9-75df-4f79-9665-1726a140aefe"
      },
      "execution_count": 51,
      "outputs": [
        {
          "output_type": "execute_result",
          "data": {
            "text/plain": [
              "(90, 28, 28)"
            ]
          },
          "metadata": {},
          "execution_count": 51
        }
      ]
    },
    {
      "cell_type": "code",
      "source": [
        "my_slice = train_images[10:100, 0:28, 0:28]\n",
        "my_slice.shape"
      ],
      "metadata": {
        "colab": {
          "base_uri": "https://localhost:8080/"
        },
        "id": "OW7RLWLRo_Os",
        "outputId": "82147a13-a1c7-44b7-c092-b4ec488fd634"
      },
      "execution_count": 52,
      "outputs": [
        {
          "output_type": "execute_result",
          "data": {
            "text/plain": [
              "(90, 28, 28)"
            ]
          },
          "metadata": {},
          "execution_count": 52
        }
      ]
    },
    {
      "cell_type": "code",
      "source": [
        "my_slice = train_images[:, 14:, 14:]"
      ],
      "metadata": {
        "id": "ueBhVJ6TpDR6"
      },
      "execution_count": 53,
      "outputs": []
    },
    {
      "cell_type": "code",
      "source": [
        "my_slice = train_images[:, 7:-7, 7:-7]"
      ],
      "metadata": {
        "id": "FutAun8bpGv8"
      },
      "execution_count": 54,
      "outputs": []
    },
    {
      "cell_type": "markdown",
      "source": [
        "## 배치 데이터\n",
        "\n",
        "- 일반적으로 딥러닝에서 사용하는 모든 데이터 텐서의 첫 번째 축은 샘플 축(sample axis = sample dimension)\n",
        "- 배치 데이터 : 데이터를 한번에 처리하는 단위"
      ],
      "metadata": {
        "id": "6sgGZnr-pODT"
      }
    },
    {
      "cell_type": "code",
      "source": [
        "batch = train_images[:128]"
      ],
      "metadata": {
        "id": "dF7pcTkDpIE9"
      },
      "execution_count": 55,
      "outputs": []
    },
    {
      "cell_type": "code",
      "source": [
        "batch = train_images[128:256]"
      ],
      "metadata": {
        "id": "Nq6LIKIZp8Qv"
      },
      "execution_count": 56,
      "outputs": []
    },
    {
      "cell_type": "code",
      "source": [
        "n = 3\n",
        "batch = train_images[128 * n:128 * (n + 1)]"
      ],
      "metadata": {
        "id": "aIzv8Cu3p9rR"
      },
      "execution_count": 57,
      "outputs": []
    },
    {
      "cell_type": "markdown",
      "source": [
        "## 텐서의 실제 사례\n",
        "- 벡터 데이터 : 랭크-2 텐서(smples, features), 각 샘플은 수치 속성(특성)으로 구성된 벡터\n",
        "- 시계열 데이터 또는 시퀀스 데이터 : 랭크-3 텐서(samples, timeseps, features) 각 샘플은 특성 벡터의 시퀀스\n",
        "- 이미지 :랭크-4 텐서(samples, height, width, channels / samples, channels, height, width), 각 샘플은 픽셀의 2D 격자, 픽셀은 수치 값(채널)의 벡터\n",
        "- 동영상 : 랭크-5 텐서(samples, frames, height, width, channels / samples, frames, channels, height, width), 각 샘플은 이미지의 시퀀스"
      ],
      "metadata": {
        "id": "P_vcZpwUqAZN"
      }
    },
    {
      "cell_type": "markdown",
      "source": [
        "# 신경망의 톱니바퀴: 텐서 연산"
      ],
      "metadata": {
        "id": "UP1Ukqlit3Xi"
      }
    },
    {
      "cell_type": "markdown",
      "source": [
        "## 원소별 연산"
      ],
      "metadata": {
        "id": "rV9t6kJnuPoR"
      }
    },
    {
      "cell_type": "code",
      "source": [
        "def naive_relu(x):\n",
        "    assert len(x.shape) == 2\n",
        "    x = x.copy()\n",
        "    for i in range(x.shape[0]):\n",
        "        for j in range(x.shape[1]):\n",
        "            x[i, j] = max(x[i, j], 0)\n",
        "    return x"
      ],
      "metadata": {
        "id": "8PioN5J8p_OA"
      },
      "execution_count": 58,
      "outputs": []
    },
    {
      "cell_type": "code",
      "source": [
        "def naive_add(x, y):\n",
        "    assert len(x.shape) == 2\n",
        "    assert x.shape == y.shape\n",
        "    x = x.copy()\n",
        "    for i in range(x.shape[0]):\n",
        "        for j in range(x.shape[1]):\n",
        "            x[i, j] += y[i, j]\n",
        "    return x"
      ],
      "metadata": {
        "id": "ZzRmPdLIunEX"
      },
      "execution_count": 59,
      "outputs": []
    },
    {
      "cell_type": "code",
      "source": [
        "import time\n",
        "\n",
        "x = np.random.random((20, 100))\n",
        "y = np.random.random((20, 100))\n",
        "\n",
        "t0 = time.time()\n",
        "for _ in range(1000):\n",
        "    z = x + y\n",
        "    z = np.maximum(z, 0.)\n",
        "print(\"걸린 시간: {0:.2f} s\".format(time.time() - t0))"
      ],
      "metadata": {
        "colab": {
          "base_uri": "https://localhost:8080/"
        },
        "id": "XYy0CclLupW2",
        "outputId": "3957fc26-375e-4974-f938-bde46b03ccbf"
      },
      "execution_count": 60,
      "outputs": [
        {
          "output_type": "stream",
          "name": "stdout",
          "text": [
            "걸린 시간: 0.01 s\n"
          ]
        }
      ]
    },
    {
      "cell_type": "code",
      "source": [
        "t0 = time.time()\n",
        "for _ in range(1000):\n",
        "    z = naive_add(x, y)\n",
        "    z = naive_relu(z)\n",
        "print(\"걸린 시간: {0:.2f} s\".format(time.time() - t0))"
      ],
      "metadata": {
        "colab": {
          "base_uri": "https://localhost:8080/"
        },
        "id": "inEkZaNju3AL",
        "outputId": "f1ae7da2-dd6d-478d-f14c-c1ef1e15a0a2"
      },
      "execution_count": 61,
      "outputs": [
        {
          "output_type": "stream",
          "name": "stdout",
          "text": [
            "걸린 시간: 1.98 s\n"
          ]
        }
      ]
    },
    {
      "cell_type": "markdown",
      "source": [
        "## 브로드캐스팅"
      ],
      "metadata": {
        "id": "MUEiEKIuvHgr"
      }
    },
    {
      "cell_type": "markdown",
      "source": [
        "- 모호하지 않고 실행 가능하다면, 작은 텐서가 큰 텐서의 크기에 맞추어 broadcasting 됨.\n",
        "  1. 큰 텐서의 ndim에 맞도록 작은 텐서에 축 추가\n",
        "  2. 작은 텐서가 새 축을 따라서 큰 텐서의 크기에 맞도록 반복"
      ],
      "metadata": {
        "id": "qoMFK-FivWEI"
      }
    },
    {
      "cell_type": "code",
      "source": [
        "import numpy as np\n",
        "X = np.random.random((32, 10))\n",
        "y = np.random.random((10,))"
      ],
      "metadata": {
        "id": "eL0mSMj6vDA8"
      },
      "execution_count": 62,
      "outputs": []
    },
    {
      "cell_type": "code",
      "source": [
        "\n",
        "y = np.expand_dims(y, axis=0)"
      ],
      "metadata": {
        "id": "YOqTuHqTvswd"
      },
      "execution_count": 63,
      "outputs": []
    },
    {
      "cell_type": "code",
      "source": [
        "Y = np.concatenate([y] * 32, axis=0)"
      ],
      "metadata": {
        "id": "I4TOQcZHvwtX"
      },
      "execution_count": 64,
      "outputs": []
    },
    {
      "cell_type": "code",
      "source": [
        "def naive_add_matrix_and_vector(x, y):\n",
        "    assert len(x.shape) == 2\n",
        "    assert len(y.shape) == 1\n",
        "    assert x.shape[1] == y.shape[0]\n",
        "    x = x.copy()\n",
        "    for i in range(x.shape[0]):\n",
        "        for j in range(x.shape[1]):\n",
        "            x[i, j] += y[j]\n",
        "    return x"
      ],
      "metadata": {
        "id": "o_9db4-Sv3bx"
      },
      "execution_count": null,
      "outputs": []
    },
    {
      "cell_type": "code",
      "source": [
        "import numpy as np\n",
        "x = np.random.random((64, 3, 32, 10))\n",
        "y = np.random.random((32, 10))\n",
        "z = np.maximum(x, y)"
      ],
      "metadata": {
        "id": "YDtlsAH3w9Aw"
      },
      "execution_count": 65,
      "outputs": []
    },
    {
      "cell_type": "markdown",
      "source": [
        "## 텐서 곱셈"
      ],
      "metadata": {
        "id": "Ky4lhs9CxMm_"
      }
    },
    {
      "cell_type": "code",
      "source": [
        "x = np.random.random((32,))\n",
        "y = np.random.random((32,))\n",
        "z = np.dot(x, y)"
      ],
      "metadata": {
        "id": "FaFhuWlyw9tv"
      },
      "execution_count": 66,
      "outputs": []
    },
    {
      "cell_type": "code",
      "source": [
        "def naive_vector_dot(x, y):\n",
        "    assert len(x.shape) == 1\n",
        "    assert len(y.shape) == 1\n",
        "    assert x.shape[0] == y.shape[0]\n",
        "    z = 0.\n",
        "    for i in range(x.shape[0]):\n",
        "        z += x[i] * y[i]\n",
        "    return z"
      ],
      "metadata": {
        "id": "e7QgCy6hxXlo"
      },
      "execution_count": 67,
      "outputs": []
    },
    {
      "cell_type": "code",
      "source": [
        "def naive_matrix_vector_dot(x, y):\n",
        "    assert len(x.shape) == 2\n",
        "    assert len(y.shape) == 1\n",
        "    assert x.shape[1] == y.shape[0]\n",
        "    z = np.zeros(x.shape[0])\n",
        "    for i in range(x.shape[0]):\n",
        "        for j in range(x.shape[1]):\n",
        "            z[i] += x[i, j] * y[j]\n",
        "    return z"
      ],
      "metadata": {
        "id": "LdMKMiwRxpye"
      },
      "execution_count": 68,
      "outputs": []
    },
    {
      "cell_type": "code",
      "source": [
        "\n",
        "def naive_matrix_vector_dot(x, y):\n",
        "    z = np.zeros(x.shape[0])\n",
        "    for i in range(x.shape[0]):\n",
        "        z[i] = naive_vector_dot(x[i, :], y)\n",
        "    return"
      ],
      "metadata": {
        "id": "3cqiGw3pyKLR"
      },
      "execution_count": 69,
      "outputs": []
    },
    {
      "cell_type": "code",
      "source": [
        "def naive_matrix_dot(x, y):\n",
        "    assert len(x.shape) == 2\n",
        "    assert len(y.shape) == 2\n",
        "    assert x.shape[1] == y.shape[0]\n",
        "    z = np.zeros((x.shape[0], y.shape[1]))\n",
        "    for i in range(x.shape[0]):\n",
        "        for j in range(y.shape[1]):\n",
        "            row_x = x[i, :]\n",
        "            column_y = y[:, j]\n",
        "            z[i, j] = naive_vector_dot(row_x, column_y)\n",
        "    return z"
      ],
      "metadata": {
        "id": "BxXT1GiFym8k"
      },
      "execution_count": 70,
      "outputs": []
    },
    {
      "cell_type": "markdown",
      "source": [
        "## 텐서 크기 변환"
      ],
      "metadata": {
        "id": "rn890pgnzQ-9"
      }
    },
    {
      "cell_type": "code",
      "source": [
        "train_images = train_images.reshape((60000, 28 * 28))"
      ],
      "metadata": {
        "id": "7fy4rYfqy91f"
      },
      "execution_count": 71,
      "outputs": []
    },
    {
      "cell_type": "code",
      "source": [
        "x = np.array([[0., 1.],\n",
        "             [2., 3.],\n",
        "             [4., 5.]])\n",
        "x.shape"
      ],
      "metadata": {
        "colab": {
          "base_uri": "https://localhost:8080/"
        },
        "id": "Y6lXHM0NzZpY",
        "outputId": "7bc51b82-44c8-4eef-9b34-c8b3b4d8d4f8"
      },
      "execution_count": 72,
      "outputs": [
        {
          "output_type": "execute_result",
          "data": {
            "text/plain": [
              "(3, 2)"
            ]
          },
          "metadata": {},
          "execution_count": 72
        }
      ]
    },
    {
      "cell_type": "code",
      "source": [
        "x = x.reshape((6, 1))\n",
        "x"
      ],
      "metadata": {
        "colab": {
          "base_uri": "https://localhost:8080/"
        },
        "id": "wrF0Mr_izgNw",
        "outputId": "4dc93d7f-a513-4a20-f419-677c552a8d66"
      },
      "execution_count": 73,
      "outputs": [
        {
          "output_type": "execute_result",
          "data": {
            "text/plain": [
              "array([[0.],\n",
              "       [1.],\n",
              "       [2.],\n",
              "       [3.],\n",
              "       [4.],\n",
              "       [5.]])"
            ]
          },
          "metadata": {},
          "execution_count": 73
        }
      ]
    },
    {
      "cell_type": "code",
      "source": [
        "x = x.reshape((2, 3))\n",
        "x"
      ],
      "metadata": {
        "colab": {
          "base_uri": "https://localhost:8080/"
        },
        "id": "q1mlvOsJzkkG",
        "outputId": "c5766c4d-0e1f-463b-fa75-5aa7f9a26544"
      },
      "execution_count": 74,
      "outputs": [
        {
          "output_type": "execute_result",
          "data": {
            "text/plain": [
              "array([[0., 1., 2.],\n",
              "       [3., 4., 5.]])"
            ]
          },
          "metadata": {},
          "execution_count": 74
        }
      ]
    },
    {
      "cell_type": "code",
      "source": [
        "x = np.zeros((300, 20))\n",
        "x = np.transpose(x)\n",
        "x.shape"
      ],
      "metadata": {
        "colab": {
          "base_uri": "https://localhost:8080/"
        },
        "id": "xdOysoPnznLv",
        "outputId": "f5d480fb-5f5a-46d5-f5e9-ec399d9f3386"
      },
      "execution_count": 75,
      "outputs": [
        {
          "output_type": "execute_result",
          "data": {
            "text/plain": [
              "(20, 300)"
            ]
          },
          "metadata": {},
          "execution_count": 75
        }
      ]
    },
    {
      "cell_type": "markdown",
      "source": [
        "## 텐서 연산의 기하학적 해석"
      ],
      "metadata": {
        "id": "DvlhDsB9z-Sq"
      }
    },
    {
      "cell_type": "markdown",
      "source": [
        "- 이동, 회전, 크기 변경, 선형 변환, 아핀 변환, relu 활성화 함수를 사용하는 아핀변환"
      ],
      "metadata": {
        "id": "L-nDAgEx0gqi"
      }
    },
    {
      "cell_type": "markdown",
      "source": [
        "## 딥러닝의 기하학적 해석"
      ],
      "metadata": {
        "id": "dZr35lXB1rJA"
      }
    },
    {
      "cell_type": "markdown",
      "source": [
        "- 신경망 = 전체적으로 텐서 연산의 연결로 구성된 것\n",
        "- 텐서 연산 = 입력한 데이터의 간단한 기하학적 변환\n",
        "- 즉, 단순한 단계들이 길게 이어져 구현된 신경망을 고차원 공간에서 매우 복잡한 기하학적 변환을 하는 것"
      ],
      "metadata": {
        "id": "bmCUQypY2Puu"
      }
    },
    {
      "cell_type": "code",
      "source": [],
      "metadata": {
        "id": "B1KgyBm4z1fr"
      },
      "execution_count": null,
      "outputs": []
    }
  ]
}
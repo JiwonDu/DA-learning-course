{
 "cells": [
  {
   "cell_type": "markdown",
   "metadata": {},
   "source": [
    "# 교재 요약"
   ]
  },
  {
   "cell_type": "markdown",
   "metadata": {},
   "source": [
    "## 04. 데이터 핸들링 - 판다스"
   ]
  },
  {
   "cell_type": "markdown",
   "metadata": {},
   "source": [
    "* 패키지, 리이브러리, 프레임워크\n",
    "- 저자는 pandas를 패키지, 라이브러리, 프레임워크를 혼용하여 설명함.\n",
    "\n",
    "\n",
    "| 특성 | 패키지 | 라이브러리 | 프레임워크 |\n",
    "|------|--------|------------|------------|\n",
    "| 정의 | 관련된 모듈들을 모아놓은 폴더 | 특정 기능을 수행하기 위한 도구들의 모음 | 애플리케이션의 기본 구조와 규칙을 제공 |\n",
    "| 구조 | 여러 개의 모듈(.py 파일)을 포함하는 폴더 | 여러 패키지와 모듈의 집합 | 애플리케이션의 아키텍처와 기본 흐름을 포함 |\n",
    "| 목적 | 코드의 구조화와 네임스페이스 관리 | 특정 분야나 목적을 위한 다양한 기능 제공 | 개발의 표준화된 구조 제공, 개발 속도 향상 |\n",
    "| 예시 | NumPy의 서브패키지들 (numpy.random, numpy.linalg 등) | NumPy, Pandas, Matplotlib | Django, Flask, Angular |\n",
    "| 비유 | 서랍장의 한 칸 | 도구상자 | 집을 짓기 위한 뼈대 |\n",
    "| 제어 흐름 | 개발자가 필요할 때 호출하여 사용 | 개발자가 필요할 때 호출하여 사용 | 프레임워크가 전체적인 흐름을 제어하고 개발자의 코드를 호출 |\n",
    "| 유연성 | 높음 | 높음 | 상대적으로 낮음 (정해진 구조와 규칙을 따라야 함) |\n",
    "| 상대적 규모 | 작음 | 중간 | 큼 |\n",
    "| 재사용성 | 높음 | 높음 | 중간 (특정 유형의 애플리케이션에 특화됨) |\n",
    "| 의존성 | 낮음 | 중간 | 높음 |"
   ]
  },
  {
   "cell_type": "markdown",
   "metadata": {},
   "source": [
    "**판다스(Pandas)**\n",
    "\n",
    "- 2차원 데이터를 효율적으로 가공 / 처리할 수 있는 파이썬 대표 데이터 핸들링 라이브러리\n",
    "- 고수준 API 제공\n",
    "- 내부데이터(파이썬 리스트, 컬렉션, 넘파이 등) 뿐만 아니라 CSV 등의 파일을 쉽게 DataFrame으로 변경 가능 (데이터 가공/분석 편리)"
   ]
  },
  {
   "cell_type": "markdown",
   "metadata": {},
   "source": []
  }
 ],
 "metadata": {
  "kernelspec": {
   "display_name": "ml_env",
   "language": "python",
   "name": "python3"
  },
  "language_info": {
   "codemirror_mode": {
    "name": "ipython",
    "version": 3
   },
   "file_extension": ".py",
   "mimetype": "text/x-python",
   "name": "python",
   "nbconvert_exporter": "python",
   "pygments_lexer": "ipython3",
   "version": "3.9.21"
  }
 },
 "nbformat": 4,
 "nbformat_minor": 2
}

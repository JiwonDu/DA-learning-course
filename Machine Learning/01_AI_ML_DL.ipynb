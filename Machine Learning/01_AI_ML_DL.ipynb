{
 "cells": [
  {
   "cell_type": "markdown",
   "metadata": {},
   "source": [
    "# 1. 전통적인 방식의 프로그램(인공지능)"
   ]
  },
  {
   "cell_type": "code",
   "execution_count": 1,
   "metadata": {},
   "outputs": [
    {
     "name": "stdout",
     "output_type": "stream",
     "text": [
      "147\n"
     ]
    }
   ],
   "source": [
    "#  일반 프로그램 (룰 기반)\n",
    "\n",
    "def my_function(x):\n",
    "  return 5 * x + 7\n",
    "\n",
    "val = int(input('숫자를 입력하세요 : '))\n",
    "ret = my_function(val)\n",
    "print(ret)"
   ]
  },
  {
   "cell_type": "markdown",
   "metadata": {},
   "source": [
    "# 2. 머신러닝"
   ]
  },
  {
   "cell_type": "code",
   "execution_count": 2,
   "metadata": {},
   "outputs": [
    {
     "name": "stdout",
     "output_type": "stream",
     "text": [
      "[[52.]]\n"
     ]
    }
   ],
   "source": [
    "# 머신러닝\n",
    "import numpy as np\n",
    "from sklearn import linear_model # 선형회귀 모델 사용\n",
    "\n",
    "# 1. 데이터, 입력값과 결과값\n",
    "# 입력값 - 2차원임임\n",
    "X_train = np.array([1,2,3,4,5,6,7]).reshape(-1,1)\n",
    "\n",
    "# 결과값 - 정답 1차원임, 입력을 넣었을 때 나올 정답답\n",
    "y_train = np.array([12, 17, 22, 27, 32, 37, 42]).reshape(-1,1)\n",
    "\n",
    "# 2. 모델 생성 - 기계학습의 가장 큰 특징 : 어떤 모델을 사용할 것인가 알려줘야 함.\n",
    "# 선형회귀 모델 객체-깡통\n",
    "model = linear_model.LinearRegression()\n",
    "\n",
    "# 데이터 넣어주기 - 학습\n",
    "model.fit (X_train, y_train)\n",
    "\n",
    "# 예측\n",
    "predict = model.predict([[9]])\n",
    "\n",
    "# 예측한 결과 값\n",
    "print(predict)"
   ]
  },
  {
   "cell_type": "markdown",
   "metadata": {},
   "source": [
    "➕ 추가 질문\n",
    "\n",
    "1. 기계학습모델에서 2차원 배열을 사용하는 이유?\n",
    "- 입력 데이터와 출력 데이터의 일관성을 유지하고, 모델이 데이터를 올바르게 처리할 수 있도록 하기 위함.\n",
    "\n",
    "2. 결과값(모델 예측값)이 소수점으로 나오는 이유?\n",
    "- 모델이 학습하는 과정에서 소수점 이하의 값을 사용하기 때문.\n",
    "- 선형회귀 모델의 예측값이 부동 소수점 형식으로 반환되기 때문."
   ]
  },
  {
   "cell_type": "markdown",
   "metadata": {},
   "source": [
    "# 3. 딥러닝"
   ]
  },
  {
   "cell_type": "code",
   "execution_count": 3,
   "metadata": {},
   "outputs": [],
   "source": [
    "# DL\n",
    "import numpy as np\n",
    "import tensorflow as tf"
   ]
  },
  {
   "cell_type": "code",
   "execution_count": 7,
   "metadata": {},
   "outputs": [
    {
     "name": "stdout",
     "output_type": "stream",
     "text": [
      "WARNING:tensorflow:5 out of the last 5 calls to <function TensorFlowTrainer.make_predict_function.<locals>.one_step_on_data_distributed at 0x00000281D8723040> triggered tf.function retracing. Tracing is expensive and the excessive number of tracings could be due to (1) creating @tf.function repeatedly in a loop, (2) passing tensors with different shapes, (3) passing Python objects instead of tensors. For (1), please define your @tf.function outside of the loop. For (2), @tf.function has reduce_retracing=True option that can avoid unnecessary retracing. For (3), please refer to https://www.tensorflow.org/guide/function#controlling_retracing and https://www.tensorflow.org/api_docs/python/tf/function for  more details.\n",
      "\u001b[1m1/1\u001b[0m \u001b[32m━━━━━━━━━━━━━━━━━━━━\u001b[0m\u001b[37m\u001b[0m \u001b[1m0s\u001b[0m 50ms/step\n"
     ]
    },
    {
     "data": {
      "text/plain": [
       "array([[52.094524]], dtype=float32)"
      ]
     },
     "execution_count": 7,
     "metadata": {},
     "output_type": "execute_result"
    }
   ],
   "source": [
    "#1. 데이터 지정\n",
    "X_train = np.array([1, 2, 3, 4, 5, 6, 7]).reshape(-1,1)\n",
    "y_train = np.array([12, 17, 22, 27, 32, 37, 42]).reshape(-1,1)\n",
    "\n",
    "#2. 모델 형태 지정\n",
    "inputs = tf.keras.layers.Input(shape=(1,))  #입력층 입력되는 값이 한 개임(1 dimension)\n",
    "outputs = tf.keras.layers.Dense(units=1)(inputs)  #출력층\n",
    "\n",
    "#모델 객체를 생성(특정 모델이 없음)\n",
    "model = tf.keras.models.Model(inputs, outputs)\n",
    "\n",
    "#loss 손실함수 -> MeanSquaredError, 최적화 함수(성능이 좋아짐) -> SGD\n",
    "model.compile(\n",
    "    loss = tf.keras.losses.MeanSquaredError(),\n",
    "    optimizer = tf.keras.optimizers.SGD()\n",
    ")\n",
    "\n",
    "#3. 모델 학습하기\n",
    "model.fit(X_train, y_train, epochs=1000, verbose=0)\n",
    "\n",
    "#4. 예측 epochs = 100 : '55.xx', 1000:52.xx\n",
    "predict = model.predict(np.array([[9]])) #예측값을 numpy 배열 2차원으로 변환\n",
    "\n",
    "#예측한 결과 값\n",
    "predict"
   ]
  },
  {
   "cell_type": "markdown",
   "metadata": {},
   "source": [
    "# 교재 요약\n",
    " : 파이썬 머신러닝 완벽 가이드(2019, 한빛미디어)"
   ]
  },
  {
   "cell_type": "markdown",
   "metadata": {},
   "source": [
    "## 1. 파이썬 기반의 머신러닝과 생태계 이해"
   ]
  },
  {
   "cell_type": "markdown",
   "metadata": {},
   "source": [
    "### 01. 머신러닝의 개념"
   ]
  },
  {
   "cell_type": "markdown",
   "metadata": {},
   "source": [
    "**머신러닝**\n",
    "\n",
    "- 정의\n",
    "   - 애플리케이션을 수정하지 않고도 데이터를 기반으로 패턴을 학습하고 결과를 예측하는 알고리즘 기법\n",
    "- 특징\n",
    "   - 데이터를 기반으로 통계적인 신뢰도를 강화하고 예측 오류를 최소화하기 위한 다양한 수학적 기법을 적용해 데이터 내의 패턴을 스스로 인지하고 신뢰도 있는 예측 결과 도출\n",
    "- 활용\n",
    "   - 예측 분석, 새로운 의미와 인사이트 발굴, 데이터마이닝, 영상 인식, 음성 인식, 자연어 처리 등 개발 복잡도가 높은 분야\n",
    "- 분류\n",
    "   - 지도학습 : 분류, 회귀, 추천 시스템, 시각/음성 감지/인지, 텍스트 분석, NLP\n",
    "   - 비지도학습 : 클러스터링, 차원 축소, 강화학습\n",
    "- 한계\n",
    "   - 데이터에 매우 의존적임. (Garbage In, Garbage Out)   \n",
    "       ➡️ 데이터를 이해하고 효율적으로 가공, 처리, 추출해 최적의 데이터를 기반으로 알고리즘을 구동할 수 있도록 준비하는 능력 중요    \n",
    "            (+ 최적의 머신러닝 알고리즘과 모델 파라미터 구축 능력)\n",
    "- 오픈 소스 프로그램 언어 비교\n",
    "   - C / C++ / JAVA(컴파일러 기반 언어) : 낮은 개발 생산성 / 활발하지 않은 지원 패키지와 생태계 문제 / 즉각적 수행 시간이 중요한 경우 사용\n",
    "   - R : 통계 분석 전문 언어 / 다양한 통계 패키지 보유\n",
    "   - Python : 유연한 프로그램 아키텍쳐(직관적 문법, 객체지향, 함수형 프로그래밍) / 다양한 라이브러리 / 느린 속도(인터프리터 언어) / 머신러닝 결합 / 기업 환경 확산 가능 / 프레임 워크 파이썬 우선 정책 + 점유도 ↑\n",
    "\n",
    "CF. 도서 추천 : 마스터 알고리즘(비즈니스북스 2016)"
   ]
  },
  {
   "cell_type": "markdown",
   "metadata": {},
   "source": [
    "### 02. 파이썬 머신러닝 생태계를 구성하는 주요 패키지"
   ]
  },
  {
   "cell_type": "markdown",
   "metadata": {},
   "source": [
    "**머신러닝 패키지**\n",
    "- Scikit-learn : 데이터 마이닝 기반의 머신러닝에서 독보적인 위치를 차지지하는 라이브러리\n",
    "- Tensorflow, Keras : 영상, 음성, 언어 등 비정형 데이터 분야에 적합한 전문 딥러닝 라이브러리\n",
    "\n",
    "**행렬/선형대수/통계 패키지**\n",
    "- Numpy : 행렬 연산과 선형대수를 위한 패키지\n",
    "- Scipy : 자연과학과 통계 관련 함수를 제공하는 패키지\n",
    "- Numpy와 Scipy는 머신러닝 패키지의 기반\n",
    "\n",
    "**데이터 핸들링**\n",
    "- Pandas : 데이터 처리를 위한 패키지 / 2차원 데이터 처리에 특화 / 넘파이보다 편리하게 데이터 처리 가능 / Matplotlib과 함께 데이터시각화에 활용\n",
    "\n",
    "**데이터 시각화**\n",
    "- Matplotlib : 데이터 시각화를 위한 패키지 / 지나치게 세분화된 API / 투박한 시각적 디자인 / 비효율적인 코드 작성\n",
    "- Seaborn : 맷플롯립 기반 / 판다스와 쉬운 연동 / 함축적 API / 다양한 유형의 그래프 및 차트 제공\n",
    "\n",
    "**IPython**\n",
    "- Jupyter Notebook : 데이터 분석 및 머신러닝 프로젝트 시 코드 작성 및 실행 환경 제공"
   ]
  },
  {
   "cell_type": "markdown",
   "metadata": {},
   "source": [
    "### TIP. 효율적인 공부 방법\n",
    "\n",
    "1. 넘파이와 판다스에 대해 상세히 이해하기 ➡️ 다른 사람이 만든 소스 코드를 자기것으로 흡수하기\n",
    " - 넘파이와 판다스는 데이터 추출/가공/변형/차원 변환/알고리즘 처리 결과에 대한 다양한 가공 등 전반에 활용됨\n",
    " - 사이킷런 역시 넘파이 기반이므로 넘파이를 이해하지 못하면 사이킷런 구현 역시 어려움    \n",
    "    \n",
    " - 하지만 넘파이와 판다스가 다루고 있는 선형대수나 데이터 핸들링은 생각보다 광범위함.   \n",
    "   ∴ 기본 프레임워크와 중요 API만 예제를 통해 사용법을 인지하며 체득   \n",
    "    → 코드와 부딪혀가며 모르는 API 찾아보고 습득   "
   ]
  },
  {
   "cell_type": "markdown",
   "metadata": {},
   "source": []
  }
 ],
 "metadata": {
  "kernelspec": {
   "display_name": "ml_env",
   "language": "python",
   "name": "python3"
  },
  "language_info": {
   "codemirror_mode": {
    "name": "ipython",
    "version": 3
   },
   "file_extension": ".py",
   "mimetype": "text/x-python",
   "name": "python",
   "nbconvert_exporter": "python",
   "pygments_lexer": "ipython3",
   "version": "3.9.21"
  }
 },
 "nbformat": 4,
 "nbformat_minor": 2
}

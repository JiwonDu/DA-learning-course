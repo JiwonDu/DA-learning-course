{
 "cells": [
  {
   "cell_type": "code",
   "execution_count": 1,
   "id": "a119336d-61f9-4976-89ac-9220010f67d3",
   "metadata": {},
   "outputs": [],
   "source": [
    "host_ip = \"13.208.159.5\"\n",
    "user_id = \"spark_user\"\n",
    "user_password = \"1234\""
   ]
  },
  {
   "cell_type": "code",
   "execution_count": 2,
   "id": "404fef82-3fbc-43af-b6b5-a1c0a63220d5",
   "metadata": {},
   "outputs": [],
   "source": [
    "import mysql.connector\n",
    "\n",
    "conn = mysql.connector.connect(\n",
    "    host = host_ip,\n",
    "    user = user_id,\n",
    "    password = user_password,\n",
    "    database = \"my_db\"\n",
    ")"
   ]
  },
  {
   "cell_type": "code",
   "execution_count": 3,
   "id": "d3f4ea7d-011c-4715-aafd-60cb61980d3a",
   "metadata": {},
   "outputs": [],
   "source": [
    "cursor = conn.cursor()\n",
    "cursor.execute(\"SHOW TABLES;\")"
   ]
  },
  {
   "cell_type": "code",
   "execution_count": 4,
   "id": "99db78b3-d7af-492e-b57c-c5a452b4cd95",
   "metadata": {},
   "outputs": [
    {
     "name": "stdout",
     "output_type": "stream",
     "text": [
      "('DEPT',)\n",
      "('EMP',)\n",
      "('salgrade',)\n"
     ]
    }
   ],
   "source": [
    "for table in cursor.fetchall():\n",
    "    print(table)"
   ]
  },
  {
   "cell_type": "code",
   "execution_count": 5,
   "id": "9617764a-cc01-4432-996a-eb70026c029b",
   "metadata": {},
   "outputs": [],
   "source": [
    "cursor.close()\n",
    "conn.close()"
   ]
  },
  {
   "cell_type": "code",
   "execution_count": null,
   "id": "7c0a8f7c-e3ed-4750-984c-14168244fac7",
   "metadata": {},
   "outputs": [],
   "source": []
  }
 ],
 "metadata": {
  "kernelspec": {
   "display_name": "Python (spark_start)",
   "language": "python",
   "name": "spark_start"
  },
  "language_info": {
   "codemirror_mode": {
    "name": "ipython",
    "version": 3
   },
   "file_extension": ".py",
   "mimetype": "text/x-python",
   "name": "python",
   "nbconvert_exporter": "python",
   "pygments_lexer": "ipython3",
   "version": "3.8.20"
  }
 },
 "nbformat": 4,
 "nbformat_minor": 5
}

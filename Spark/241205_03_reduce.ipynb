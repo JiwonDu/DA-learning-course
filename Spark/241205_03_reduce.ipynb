{
 "cells": [
  {
   "cell_type": "code",
   "execution_count": 2,
   "id": "a8efa726-ef55-4e9b-b31a-b774e4b5de70",
   "metadata": {},
   "outputs": [
    {
     "name": "stderr",
     "output_type": "stream",
     "text": [
      "24/12/05 13:17:48 WARN NativeCodeLoader: Unable to load native-hadoop library for your platform... using builtin-java classes where applicable\n",
      "Using Spark's default log4j profile: org/apache/spark/log4j-defaults.properties\n",
      "Setting default log level to \"WARN\".\n",
      "To adjust logging level use sc.setLogLevel(newLevel). For SparkR, use setLogLevel(newLevel).\n"
     ]
    }
   ],
   "source": [
    "from pyspark import SparkConf, SparkContext\n",
    "# 스파크 환경 설정 객체 생성\n",
    "conf = SparkConf().setMaster(\"local\").setAppName(\"241205_03_reduce\")\n",
    "spark = SparkContext(conf=conf).getOrCreate()"
   ]
  },
  {
   "cell_type": "markdown",
   "id": "a3ea6c93-59a8-4cf9-b7d1-16b882938000",
   "metadata": {},
   "source": [
    "# Reduce : 여러개의 값을 하나로 축약\n",
    "```\n",
    "RDD.reduce( <func> )\n",
    "\n",
    "```"
   ]
  },
  {
   "cell_type": "code",
   "execution_count": 3,
   "id": "b5a70fad-ccac-4a31-8506-04463a949d73",
   "metadata": {},
   "outputs": [
    {
     "data": {
      "text/plain": [
       "ParallelCollectionRDD[0] at readRDDFromFile at PythonRDD.scala:274"
      ]
     },
     "execution_count": 3,
     "metadata": {},
     "output_type": "execute_result"
    }
   ],
   "source": [
    "sample_rdd = spark.parallelize([1,2,3,4,5])\n",
    "sample_rdd"
   ]
  },
  {
   "cell_type": "code",
   "execution_count": 4,
   "id": "a4baa88a-bd34-4c0f-bbc5-1b301a94f90f",
   "metadata": {},
   "outputs": [],
   "source": [
    "from operator import add"
   ]
  },
  {
   "cell_type": "code",
   "execution_count": 5,
   "id": "fe3b0b44-2c3d-4bc9-991f-d53d8bb6c3d5",
   "metadata": {},
   "outputs": [
    {
     "name": "stderr",
     "output_type": "stream",
     "text": [
      "                                                                                \r"
     ]
    },
    {
     "data": {
      "text/plain": [
       "15"
      ]
     },
     "execution_count": 5,
     "metadata": {},
     "output_type": "execute_result"
    }
   ],
   "source": [
    "sample_rdd.reduce(add)"
   ]
  },
  {
   "cell_type": "markdown",
   "id": "db5813e2-b7fd-482e-9327-0ceb644553c0",
   "metadata": {},
   "source": [
    "# partition 이 나뉘어 져 있을 때\n",
    "\n",
    "```\n",
    "lambda x, y : (x*2) + y\n",
    "```\n",
    "\n",
    "1: x=1, y=2   >> (1*2) + 2 = 4\n",
    "2: x=4, y=3   >> (4*2) + 3 = 11\n",
    "3: x=11, y=4  >> (11*2) + 4 = 26\n",
    "4:\n"
   ]
  },
  {
   "cell_type": "code",
   "execution_count": 6,
   "id": "44ff9285-282e-40d1-86c0-b79141f427b3",
   "metadata": {},
   "outputs": [
    {
     "data": {
      "text/plain": [
       "26"
      ]
     },
     "execution_count": 6,
     "metadata": {},
     "output_type": "execute_result"
    }
   ],
   "source": [
    "##파티션 1개일 때 계산결과 26\n",
    "sample_rdd1 = spark.parallelize([1,2,3,4])\n",
    "sample_rdd1.reduce(lambda x,y: (x*2) + y)"
   ]
  },
  {
   "cell_type": "code",
   "execution_count": 10,
   "id": "bc7d96e9-43d6-46c8-8327-4aaff3332ca3",
   "metadata": {},
   "outputs": [
    {
     "data": {
      "text/plain": [
       "[[1, 2, 3, 4]]"
      ]
     },
     "execution_count": 10,
     "metadata": {},
     "output_type": "execute_result"
    }
   ],
   "source": [
    "#파티션 1개일 때\n",
    "sample_rdd1.glom().collect()"
   ]
  },
  {
   "cell_type": "code",
   "execution_count": 12,
   "id": "3f5062b5-7933-463a-af9f-16da92588040",
   "metadata": {},
   "outputs": [
    {
     "data": {
      "text/plain": [
       "[[1, 2], [3, 4]]"
      ]
     },
     "execution_count": 12,
     "metadata": {},
     "output_type": "execute_result"
    }
   ],
   "source": [
    "##파티션 2개일 때 계산결과 18\n",
    "sample_rdd2 = spark.parallelize([1,2,3,4],2)\n",
    "sample_rdd2.glom().collect()"
   ]
  },
  {
   "cell_type": "markdown",
   "id": "d5c2d473-ca9d-454d-83e0-bf34cec79a69",
   "metadata": {},
   "source": [
    "파티션1 \n",
    "1: 1*2 + 2 = 4\n",
    "\n",
    "파티션2\n",
    "1: 3*2 + 4 = 10\n",
    "\n",
    "최종결합:\n",
    "x=4, y=10 : 4*2 + 10 = 18"
   ]
  },
  {
   "cell_type": "code",
   "execution_count": 13,
   "id": "48ad546a-1902-43f1-958e-c0d269797f72",
   "metadata": {},
   "outputs": [
    {
     "data": {
      "text/plain": [
       "18"
      ]
     },
     "execution_count": 13,
     "metadata": {},
     "output_type": "execute_result"
    }
   ],
   "source": [
    "sample_rdd2.reduce(lambda x,y: (x*2) + y)"
   ]
  },
  {
   "cell_type": "code",
   "execution_count": null,
   "id": "dac140d5-daa5-41f7-869d-9a666e043aeb",
   "metadata": {},
   "outputs": [],
   "source": [
    "##파티션 3개일 때\n",
    "p1 : 1\n",
    "p2 : 2\n",
    "p3 : 3,4 > 10\n",
    "x=3, y=4 : 3*2 + 4 = 10\n",
    "\n",
    "#p1, p2 결합\n",
    "x=1, y=2 : 1*2+2 = 4\n",
    "\n",
    "#4와 p3가 결합\n",
    "x=4, y=10 : 4*2+10 = 18\n"
   ]
  },
  {
   "cell_type": "code",
   "execution_count": 14,
   "id": "54fca97f-c717-456d-b807-cffd7e77ae8a",
   "metadata": {},
   "outputs": [
    {
     "data": {
      "text/plain": [
       "[[1], [2], [3, 4]]"
      ]
     },
     "execution_count": 14,
     "metadata": {},
     "output_type": "execute_result"
    }
   ],
   "source": [
    "sample_rdd3 = spark.parallelize([1,2,3,4],3)\n",
    "sample_rdd3.glom().collect()"
   ]
  },
  {
   "cell_type": "code",
   "execution_count": 15,
   "id": "0c7536d5-7ed8-4cda-aa6a-331ed163f8d1",
   "metadata": {},
   "outputs": [
    {
     "data": {
      "text/plain": [
       "18"
      ]
     },
     "execution_count": 15,
     "metadata": {},
     "output_type": "execute_result"
    }
   ],
   "source": [
    "sample_rdd3.reduce(lambda x,y: (x*2) + y)"
   ]
  },
  {
   "cell_type": "markdown",
   "id": "ce6c533c-e696-4b40-8b16-33ed97939ae9",
   "metadata": {},
   "source": [
    "### 리듀스 연산은 순서 의존적\n",
    "\n",
    "각 파티션 내에서 연산은 독립적으로 실행, 최종 결과는 파티션 간의 결과가 결합"
   ]
  },
  {
   "cell_type": "markdown",
   "id": "90e6a8df-5679-4a76-bc3c-8ddea6ed180a",
   "metadata": {},
   "source": [
    "### fold 연산의 활용\n",
    "\n",
    "```\n",
    "fold( zeroValue,  <func> )\n",
    "\n",
    "```\n",
    "\n",
    "zeroValue : 시작값, 항등원 *일때 1, +일 경우 0\n"
   ]
  },
  {
   "cell_type": "code",
   "execution_count": 16,
   "id": "4bef4492-c34a-4d45-8501-1389c3721e49",
   "metadata": {},
   "outputs": [
    {
     "data": {
      "text/plain": [
       "24"
      ]
     },
     "execution_count": 16,
     "metadata": {},
     "output_type": "execute_result"
    }
   ],
   "source": [
    "rdd4 = spark.parallelize([2,3,4],4)\n",
    "rdd4.reduce(lambda x,y : x*y)"
   ]
  },
  {
   "cell_type": "code",
   "execution_count": 17,
   "id": "d4658aa0-bbd0-4a21-b3e4-5fc89080b2a5",
   "metadata": {},
   "outputs": [
    {
     "data": {
      "text/plain": [
       "24"
      ]
     },
     "execution_count": 17,
     "metadata": {},
     "output_type": "execute_result"
    }
   ],
   "source": [
    "rdd4.fold(1, lambda x,y: x*y)"
   ]
  },
  {
   "cell_type": "code",
   "execution_count": 20,
   "id": "134ba445-615b-45bb-8814-9e33a35bd4ba",
   "metadata": {},
   "outputs": [
    {
     "name": "stdout",
     "output_type": "stream",
     "text": [
      "Reduce Error : Can not reduce() empty RDD\n"
     ]
    }
   ],
   "source": [
    "#빈 RDD의 예외처리\n",
    "rdd5 = spark.parallelize([])\n",
    "try :\n",
    "    rdd5.reduce(lambda a,b : a+b)\n",
    "except ValueError as e:\n",
    "    print(f\"Reduce Error : {e}\")"
   ]
  },
  {
   "cell_type": "code",
   "execution_count": 21,
   "id": "f9c3fb76-c2ff-4f24-a98a-29f85ec96b71",
   "metadata": {},
   "outputs": [
    {
     "data": {
      "text/plain": [
       "0"
      ]
     },
     "execution_count": 21,
     "metadata": {},
     "output_type": "execute_result"
    }
   ],
   "source": [
    "rdd5.fold(0, lambda a,b : a+b)"
   ]
  },
  {
   "cell_type": "markdown",
   "id": "30593583-98cb-4127-8fca-e272053c5579",
   "metadata": {},
   "source": [
    "##  reduce(), fold() 비슷한 처리를 합니다.\n",
    "1. reduce() 는 단순한 RDD 축약연산, 비어있지 않은 RDD 의 경우\n",
    "2. fold() 는 일반적이고 오류가 없는 연산, 초기값을 적용해서 비어있는 RDD, 파티션의 경우에도 적용할 수 있음."
   ]
  },
  {
   "cell_type": "code",
   "execution_count": 22,
   "id": "aff4a2f3-6dec-4f91-80b7-4c81d9b65bf0",
   "metadata": {},
   "outputs": [
    {
     "data": {
      "text/plain": [
       "[1, 'a', 2]"
      ]
     },
     "execution_count": 22,
     "metadata": {},
     "output_type": "execute_result"
    }
   ],
   "source": [
    "rdd6 = spark.parallelize([1,\"a\",2])\n",
    "rdd6.collect()"
   ]
  },
  {
   "cell_type": "code",
   "execution_count": 31,
   "id": "74b010bb-d73a-4962-96a2-1f07280d9a82",
   "metadata": {},
   "outputs": [
    {
     "ename": "AttributeError",
     "evalue": "'str' object has no attribute 'collect'",
     "output_type": "error",
     "traceback": [
      "\u001b[0;31m---------------------------------------------------------------------------\u001b[0m",
      "\u001b[0;31mAttributeError\u001b[0m                            Traceback (most recent call last)",
      "Cell \u001b[0;32mIn[31], line 2\u001b[0m\n\u001b[1;32m      1\u001b[0m \u001b[38;5;28;01mtry\u001b[39;00m:\n\u001b[0;32m----> 2\u001b[0m     \u001b[43mrdd6\u001b[49m\u001b[38;5;241;43m.\u001b[39;49m\u001b[43mreduce\u001b[49m\u001b[43m(\u001b[49m\u001b[38;5;28;43;01mlambda\u001b[39;49;00m\u001b[43m \u001b[49m\u001b[43mx\u001b[49m\u001b[43m,\u001b[49m\u001b[43my\u001b[49m\u001b[43m:\u001b[49m\u001b[43m \u001b[49m\u001b[38;5;28;43mstr\u001b[39;49m\u001b[43m(\u001b[49m\u001b[43mx\u001b[49m\u001b[43m)\u001b[49m\u001b[38;5;241;43m+\u001b[39;49m\u001b[38;5;28;43mstr\u001b[39;49m\u001b[43m(\u001b[49m\u001b[43my\u001b[49m\u001b[43m)\u001b[49m\u001b[43m)\u001b[49m\u001b[38;5;241;43m.\u001b[39;49m\u001b[43mcollect\u001b[49m()\n\u001b[1;32m      3\u001b[0m \u001b[38;5;28;01mexcept\u001b[39;00m \u001b[38;5;167;01mTypeError\u001b[39;00m \u001b[38;5;28;01mas\u001b[39;00m e:\n\u001b[1;32m      4\u001b[0m     \u001b[38;5;28mprint\u001b[39m(\u001b[38;5;124mf\u001b[39m\u001b[38;5;124m\"\u001b[39m\u001b[38;5;124mReduce Error: \u001b[39m\u001b[38;5;132;01m{\u001b[39;00me\u001b[38;5;132;01m}\u001b[39;00m\u001b[38;5;124m\"\u001b[39m)\n",
      "\u001b[0;31mAttributeError\u001b[0m: 'str' object has no attribute 'collect'"
     ]
    }
   ],
   "source": [
    "try:\n",
    "    rdd6.reduce(lambda x,y: str(x)+str(y))\n",
    "except TypeError as e:\n",
    "    print(f\"Reduce Error: {e}\")"
   ]
  },
  {
   "cell_type": "code",
   "execution_count": 29,
   "id": "d47f024b-1b56-49e2-8d51-35224dc3393a",
   "metadata": {},
   "outputs": [
    {
     "data": {
      "text/plain": [
       "'1a2'"
      ]
     },
     "execution_count": 29,
     "metadata": {},
     "output_type": "execute_result"
    }
   ],
   "source": [
    "rdd6.fold(\"\", lambda x,y: str(x) + str(y))"
   ]
  },
  {
   "cell_type": "markdown",
   "id": "96f25dba",
   "metadata": {},
   "source": [
    "# groupby(), aggregate()"
   ]
  },
  {
   "cell_type": "code",
   "execution_count": 6,
   "id": "6341b180-b66c-41ba-872f-1828e0fd231d",
   "metadata": {},
   "outputs": [
    {
     "data": {
      "text/plain": [
       "[1, 2, 1, 1, 3, 5, 5, 8]"
      ]
     },
     "execution_count": 6,
     "metadata": {},
     "output_type": "execute_result"
    }
   ],
   "source": [
    "rdd7 = spark.parallelize([1,2,1,1,3,5,5,8])\n",
    "rdd7.collect()"
   ]
  },
  {
   "cell_type": "code",
   "execution_count": 8,
   "id": "051ccfb2-df0c-4133-8d03-997db0756ab8",
   "metadata": {},
   "outputs": [],
   "source": [
    "result = rdd7.groupBy(lambda x:x%2).collect()"
   ]
  },
  {
   "cell_type": "code",
   "execution_count": 9,
   "id": "d107538f",
   "metadata": {},
   "outputs": [
    {
     "data": {
      "text/plain": [
       "[(0, [2, 8]), (1, [1, 1, 1, 3, 5, 5])]"
      ]
     },
     "execution_count": 9,
     "metadata": {},
     "output_type": "execute_result"
    }
   ],
   "source": [
    "sorted([(x,sorted(y)) for (x,y) in result])"
   ]
  },
  {
   "cell_type": "markdown",
   "id": "dbcc5dc9",
   "metadata": {},
   "source": [
    "## RDD.aggregate(zeroValue, func1_partion, func2_combine)"
   ]
  },
  {
   "cell_type": "code",
   "execution_count": 10,
   "id": "a3e9e436",
   "metadata": {},
   "outputs": [],
   "source": [
    "func1 = lambda x,y : (x[0] + y,  x[1] + 1)"
   ]
  },
  {
   "cell_type": "code",
   "execution_count": 11,
   "id": "aca9b25c",
   "metadata": {},
   "outputs": [],
   "source": [
    "func2 = lambda x,y : (x[0] + y[0], x[1] + y[1])"
   ]
  },
  {
   "cell_type": "code",
   "execution_count": 13,
   "id": "8d9413e6",
   "metadata": {},
   "outputs": [],
   "source": [
    "rdd8 = spark.parallelize( [1,2,3,4] , 2)"
   ]
  },
  {
   "cell_type": "code",
   "execution_count": 14,
   "id": "834d3af8",
   "metadata": {},
   "outputs": [
    {
     "data": {
      "text/plain": [
       "(10, 4)"
      ]
     },
     "execution_count": 14,
     "metadata": {},
     "output_type": "execute_result"
    }
   ],
   "source": [
    "rdd8.aggregate( (0,0), func1, func2)"
   ]
  },
  {
   "cell_type": "code",
   "execution_count": 15,
   "id": "ac344efd",
   "metadata": {},
   "outputs": [
    {
     "data": {
      "text/plain": [
       "[[1, 2], [3, 4]]"
      ]
     },
     "execution_count": 15,
     "metadata": {},
     "output_type": "execute_result"
    }
   ],
   "source": [
    "rdd8.glom().collect()"
   ]
  },
  {
   "cell_type": "markdown",
   "id": "19491157",
   "metadata": {},
   "source": [
    "* 원리  \n",
    "\n",
    "```\n",
    "p1\n",
    "x=[1,2], zerovalue=[0,0]\n",
    "x[0]=0, x[1]=0\n",
    "x[0]+y = 0+1=1, x[1]+1 = 0+1=1  >> (1,1)\n",
    "x[0]+y = 1+2=3, x[1]+1 = 1+1=2 >> (3,2)\n",
    "\n",
    "p2\n",
    "x=[3,4], zerovalue[0,0]\n",
    "x[0]=0, x[1]=0\n",
    "x[0]+y= 0+3=3, x[1]+1= 0+1=1 >> (3,1)\n",
    "x[0]+y= 3+4=7, x[1]+1= 1+1=2 >> (7,2)\n",
    "p1,p2 \n",
    "x=(3,2), y=(7,2)\n",
    "x[0]+y[0]=3+7=10, x[1]+y[1]=2+2=4 >> (10,4)\n",
    "```"
   ]
  },
  {
   "cell_type": "markdown",
   "id": "97d95ae6",
   "metadata": {},
   "source": [
    "## key-value RDD (paired RDD)\n",
    "\n",
    "groupByKey(), reduceByKey()\n",
    "\n",
    "그룹핑한 후에 특정 트랜스포메이션을 수행, 키가 필요함.  \n",
    "처리 속도 : reduceByKey > groupByKey"
   ]
  },
  {
   "cell_type": "code",
   "execution_count": 16,
   "id": "5377fd72",
   "metadata": {},
   "outputs": [],
   "source": [
    "rdd9 = spark.parallelize(\n",
    "    [\n",
    "        (\"짜장면\", 15),\n",
    "        (\"짬뽕\", 10),\n",
    "        (\"짜장면\", 5),\n",
    "        (\"짬뽕\", 20)\n",
    "    ]\n",
    ")"
   ]
  },
  {
   "cell_type": "code",
   "execution_count": 17,
   "id": "253f35ce",
   "metadata": {},
   "outputs": [
    {
     "data": {
      "text/plain": [
       "PythonRDD[22] at RDD at PythonRDD.scala:53"
      ]
     },
     "execution_count": 17,
     "metadata": {},
     "output_type": "execute_result"
    }
   ],
   "source": [
    "rdd9_g = rdd9.groupByKey()\n",
    "rdd9_g"
   ]
  },
  {
   "cell_type": "code",
   "execution_count": 19,
   "id": "b674ccf5",
   "metadata": {},
   "outputs": [
    {
     "data": {
      "text/plain": [
       "[('짜장면', 2), ('짬뽕', 2)]"
      ]
     },
     "execution_count": 19,
     "metadata": {},
     "output_type": "execute_result"
    }
   ],
   "source": [
    "rdd9_g.mapValues(len).collect() # max, min 사용 가능"
   ]
  },
  {
   "cell_type": "code",
   "execution_count": 20,
   "id": "e8f61586",
   "metadata": {},
   "outputs": [
    {
     "data": {
      "text/plain": [
       "[('짜장면', [15, 5]), ('짬뽕', [10, 20])]"
      ]
     },
     "execution_count": 20,
     "metadata": {},
     "output_type": "execute_result"
    }
   ],
   "source": [
    "rdd9_g.mapValues(list).collect()"
   ]
  },
  {
   "cell_type": "code",
   "execution_count": 21,
   "id": "a7b9d4bf",
   "metadata": {},
   "outputs": [
    {
     "data": {
      "text/plain": [
       "[('짜장면', 10.0), ('짬뽕', 15.0)]"
      ]
     },
     "execution_count": 21,
     "metadata": {},
     "output_type": "execute_result"
    }
   ],
   "source": [
    "rdd9_g.mapValues(lambda x: sum(x) / len(x)).collect()"
   ]
  },
  {
   "cell_type": "code",
   "execution_count": 22,
   "id": "755497e3",
   "metadata": {},
   "outputs": [
    {
     "data": {
      "text/plain": [
       "[('짜장면', 20), ('짬뽕', 30)]"
      ]
     },
     "execution_count": 22,
     "metadata": {},
     "output_type": "execute_result"
    }
   ],
   "source": [
    "rdd9.reduceByKey(add).collect()"
   ]
  },
  {
   "cell_type": "markdown",
   "id": "76ba7d4a",
   "metadata": {},
   "source": [
    "# countByKey()\n",
    "각 키별로 요소들의 갯수를 카운트 > Action"
   ]
  },
  {
   "cell_type": "code",
   "execution_count": 23,
   "id": "3e9373ec",
   "metadata": {},
   "outputs": [
    {
     "data": {
      "text/plain": [
       "defaultdict(int, {'짜장면': 2, '짬뽕': 2})"
      ]
     },
     "execution_count": 23,
     "metadata": {},
     "output_type": "execute_result"
    }
   ],
   "source": [
    "rdd9.countByKey()"
   ]
  },
  {
   "cell_type": "markdown",
   "id": "59daf3a1",
   "metadata": {},
   "source": [
    "# KEY()\n",
    "키만 가진 RDD > transformation"
   ]
  },
  {
   "cell_type": "code",
   "execution_count": 24,
   "id": "ecace0bc",
   "metadata": {},
   "outputs": [
    {
     "data": {
      "text/plain": [
       "PythonRDD[33] at RDD at PythonRDD.scala:53"
      ]
     },
     "execution_count": 24,
     "metadata": {},
     "output_type": "execute_result"
    }
   ],
   "source": [
    "rdd9.keys()"
   ]
  },
  {
   "cell_type": "code",
   "execution_count": 25,
   "id": "06a0ffc0",
   "metadata": {},
   "outputs": [
    {
     "data": {
      "text/plain": [
       "['짜장면', '짬뽕', '짜장면', '짬뽕']"
      ]
     },
     "execution_count": 25,
     "metadata": {},
     "output_type": "execute_result"
    }
   ],
   "source": [
    "rdd9.keys().collect()"
   ]
  },
  {
   "cell_type": "markdown",
   "id": "2e57ed09",
   "metadata": {},
   "source": [
    "# join() : key를 이용한 결합 - outer join, inner join\n",
    "\n",
    "inner-join : 두 개의 집합에서 함께 존재하는 요소(key)의 집합(default)  \n",
    "outer-join : 한 쪽에 있고, 다른 쪽에 없을 때 - left, right"
   ]
  },
  {
   "cell_type": "code",
   "execution_count": 27,
   "id": "0238fa29",
   "metadata": {},
   "outputs": [
    {
     "data": {
      "text/plain": [
       "[('b', (20, 20)), ('b', (20, 10)), ('a', (10, 10))]"
      ]
     },
     "execution_count": 27,
     "metadata": {},
     "output_type": "execute_result"
    }
   ],
   "source": [
    "join_rdd1 = spark.parallelize(\n",
    "    [(\"a\",10),\n",
    "    (\"b\",20),\n",
    "    (\"c\",30)]\n",
    ")\n",
    "\n",
    "join_rdd2 = spark.parallelize(\n",
    "    [(\"a\",10),\n",
    "    (\"b\",20),\n",
    "    (\"b\",10),]\n",
    ")\n",
    "\n",
    "join_rdd1.join(join_rdd2).collect()"
   ]
  },
  {
   "cell_type": "code",
   "execution_count": 28,
   "id": "ef3cf9b2",
   "metadata": {},
   "outputs": [
    {
     "data": {
      "text/plain": [
       "[('b', (20, 20)), ('b', (20, 10)), ('c', (30, None)), ('a', (10, 10))]"
      ]
     },
     "execution_count": 28,
     "metadata": {},
     "output_type": "execute_result"
    }
   ],
   "source": [
    "join_rdd1.leftOuterJoin(join_rdd2).collect()"
   ]
  },
  {
   "cell_type": "code",
   "execution_count": 29,
   "id": "b3faefad",
   "metadata": {},
   "outputs": [
    {
     "data": {
      "text/plain": [
       "[('b', (20, 20)), ('b', (20, 10)), ('a', (10, 10))]"
      ]
     },
     "execution_count": 29,
     "metadata": {},
     "output_type": "execute_result"
    }
   ],
   "source": [
    "join_rdd1.rightOuterJoin(join_rdd2).collect()"
   ]
  },
  {
   "cell_type": "code",
   "execution_count": 31,
   "id": "115a810d",
   "metadata": {},
   "outputs": [],
   "source": [
    "spark.stop()"
   ]
  },
  {
   "cell_type": "markdown",
   "id": "51a5c4b9",
   "metadata": {},
   "source": [
    "## ➕ INNER JOIN과 OUTER JOIN\n",
    "\n",
    "### INNER JOIN\n",
    "**INNER JOIN**은 두 테이블에서 공통된 키를 기준으로 매칭되는 행만 반환합니다. 두 테이블의 교집합 부분만 가져오는 방식입니다.\n",
    "\n",
    "#### 예시\n",
    "- **Table A**:\n",
    "  | ID | Name |\n",
    "  |----|------|\n",
    "  | 1  | Alice|\n",
    "  | 2  | Bob  |\n",
    "  | 3  | Carol|\n",
    "\n",
    "- **Table B**:\n",
    "  | ID | Age |\n",
    "  |----|-----|\n",
    "  | 2  | 30  |\n",
    "  | 3  | 25  |\n",
    "  | 4  | 22  |\n",
    "\n",
    "- **INNER JOIN 결과**:\n",
    "  | ID | Name  | Age |\n",
    "  |----|-------|-----|\n",
    "  | 2  | Bob   | 30  |\n",
    "  | 3  | Carol | 25  |\n",
    "\n",
    "두 테이블에서 ID가 공통인 행만 포함됩니다.\n",
    "\n",
    "### OUTER JOIN\n",
    "**OUTER JOIN**은 두 테이블에서 매칭되지 않는 행도 포함하여 반환합니다. OUTER JOIN에는 LEFT JOIN, RIGHT JOIN, FULL OUTER JOIN이 있습니다.\n",
    "\n",
    "#### LEFT JOIN (LEFT OUTER JOIN)\n",
    "LEFT JOIN은 왼쪽 테이블의 모든 행을 포함하며, 오른쪽 테이블에 매칭되는 행이 있으면 값을 채워 넣습니다. 매칭되는 행이 없으면 NULL을 넣습니다.\n",
    "\n",
    "- **LEFT JOIN 결과**:\n",
    "  | ID | Name  | Age  |\n",
    "  |----|-------|------|\n",
    "  | 1  | Alice | NULL |\n",
    "  | 2  | Bob   | 30   |\n",
    "  | 3  | Carol | 25   |\n",
    "\n",
    "#### RIGHT JOIN (RIGHT OUTER JOIN)\n",
    "RIGHT JOIN은 오른쪽 테이블의 모든 행을 포함하며, 왼쪽 테이블에 매칭되는 행이 있으면 값을 채워 넣습니다. 매칭되는 행이 없으면 NULL을 넣습니다.\n",
    "\n",
    "- **RIGHT JOIN 결과**:\n",
    "  | ID | Name  | Age  |\n",
    "  |----|-------|-----|\n",
    "  | 2  | Bob   | 30  |\n",
    "  | 3  | Carol | 25  |\n",
    "  | 4  | NULL  | 22  |\n",
    "\n",
    "#### FULL OUTER JOIN\n",
    "FULL OUTER JOIN은 두 테이블의 모든 행을 포함하며, 어느 한쪽에 매칭되는 행이 없으면 NULL을 넣습니다.\n",
    "\n",
    "- **FULL OUTER JOIN 결과**:\n",
    "  | ID | Name  | Age  |\n",
    "  |----|-------|------|\n",
    "  | 1  | Alice | NULL |\n",
    "  | 2  | Bob   | 30   |\n",
    "  | 3  | Carol | 25   |\n",
    "  | 4  | NULL  | 22   |\n",
    "\n",
    "이와 같이, OUTER JOIN은 매칭되지 않는 행도 포함하여 두 테이블을 결합할 수 있는 방법을 제공합니다.\n",
    "각 JOIN 유형은 데이터 분석에서 다양한 요구사항을 충족하기 위해 사용됩니다.\n",
    "\n",
    "#### CF. 집합 연산과 JOIN 연산\n",
    "* 집합 연산:  \n",
    "    UNION, INTERSECTION, SUBTRACTION은 두 집합 간의 요소를 합치거나, 공통 요소를 찾거나, 차집합을 구하는 연산입니다.  \n",
    "    일반적인 RDD와 키-값 쌍 RDD 모두에서 사용할 수 있으며, 데이터를 필터링하는 목적으로 주로 사용합니다.\n",
    "\n",
    "* JOIN 연산:  \n",
    "    두 RDD 간의 공통된 키를 기준으로 데이터를 결합하는 연산입니다.  \n",
    "    주로 키-값 쌍 RDD에 사용되며, 공통된 키를 기준으로 데이터를 결합하기 위한 목적으로 활용됩니다."
   ]
  }
 ],
 "metadata": {
  "kernelspec": {
   "display_name": "Python (spark_start)",
   "language": "python",
   "name": "spark_start"
  },
  "language_info": {
   "codemirror_mode": {
    "name": "ipython",
    "version": 3
   },
   "file_extension": ".py",
   "mimetype": "text/x-python",
   "name": "python",
   "nbconvert_exporter": "python",
   "pygments_lexer": "ipython3",
   "version": "3.8.20"
  }
 },
 "nbformat": 4,
 "nbformat_minor": 5
}

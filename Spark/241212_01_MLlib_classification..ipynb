{
 "cells": [
  {
   "cell_type": "code",
   "execution_count": 1,
   "id": "c1854104-79f0-4d99-a59e-eac249cce1a3",
   "metadata": {},
   "outputs": [
    {
     "name": "stderr",
     "output_type": "stream",
     "text": [
      "24/12/12 10:59:54 WARN NativeCodeLoader: Unable to load native-hadoop library for your platform... using builtin-java classes where applicable\n",
      "Using Spark's default log4j profile: org/apache/spark/log4j-defaults.properties\n",
      "Setting default log level to \"WARN\".\n",
      "To adjust logging level use sc.setLogLevel(newLevel). For SparkR, use setLogLevel(newLevel).\n"
     ]
    }
   ],
   "source": [
    "from pyspark.sql import SparkSession\n",
    "\n",
    "spark = SparkSession.builder.appName(\"241212_01_MLlib_classification\").getOrCreate()"
   ]
  },
  {
   "cell_type": "markdown",
   "id": "0c93cd77-304a-4b28-af14-d798f7cc6d5a",
   "metadata": {},
   "source": [
    "# data load"
   ]
  },
  {
   "cell_type": "code",
   "execution_count": 2,
   "id": "17c7ff57-682f-4e23-bf8b-08a7b8c82795",
   "metadata": {},
   "outputs": [
    {
     "name": "stderr",
     "output_type": "stream",
     "text": [
      "                                                                                "
     ]
    }
   ],
   "source": [
    "df = spark.read.format(\"csv\")\\\n",
    "    .option(\"header\", 'true')\\\n",
    "    .option('inferSchema', 'true')\\\n",
    "    .load('data/titanic.csv')"
   ]
  },
  {
   "cell_type": "code",
   "execution_count": 3,
   "id": "491306e9-e16a-4722-bdcd-c748dc6b8415",
   "metadata": {},
   "outputs": [
    {
     "name": "stdout",
     "output_type": "stream",
     "text": [
      "+--------+------+------+----+-----+-----+-------+-----------+\n",
      "|survived|pclass|   sex| age|sibsp|parch|   fare|embark_town|\n",
      "+--------+------+------+----+-----+-----+-------+-----------+\n",
      "|       0|     3|  male|22.0|    1|    0|   7.25|Southampton|\n",
      "|       1|     1|female|38.0|    1|    0|71.2833|  Cherbourg|\n",
      "|       1|     3|female|26.0|    0|    0|  7.925|Southampton|\n",
      "|       1|     1|female|35.0|    1|    0|   53.1|Southampton|\n",
      "|       0|     3|  male|35.0|    0|    0|   8.05|Southampton|\n",
      "|       0|     3|  male|null|    0|    0| 8.4583| Queenstown|\n",
      "|       0|     1|  male|54.0|    0|    0|51.8625|Southampton|\n",
      "|       0|     3|  male| 2.0|    3|    1| 21.075|Southampton|\n",
      "|       1|     3|female|27.0|    0|    2|11.1333|Southampton|\n",
      "|       1|     2|female|14.0|    1|    0|30.0708|  Cherbourg|\n",
      "+--------+------+------+----+-----+-----+-------+-----------+\n",
      "only showing top 10 rows\n",
      "\n"
     ]
    }
   ],
   "source": [
    "df.show(10)"
   ]
  },
  {
   "cell_type": "markdown",
   "id": "c835751c-32b8-4f58-b6df-ea7e4ef8f5dd",
   "metadata": {},
   "source": [
    "# missing value"
   ]
  },
  {
   "cell_type": "code",
   "execution_count": 5,
   "id": "031e3e0c-e43c-41df-91e0-f1f8707bbf01",
   "metadata": {},
   "outputs": [
    {
     "name": "stdout",
     "output_type": "stream",
     "text": [
      "+--------+------+---+---+-----+-----+----+-----------+\n",
      "|survived|pclass|sex|age|sibsp|parch|fare|embark_town|\n",
      "+--------+------+---+---+-----+-----+----+-----------+\n",
      "|       0|     0|  0|177|    0|    0|   0|          2|\n",
      "+--------+------+---+---+-----+-----+----+-----------+\n",
      "\n"
     ]
    }
   ],
   "source": [
    "from pyspark.sql.functions import col, sum, isnan, when\n",
    "\n",
    "null_counts = df.select(\n",
    "    [\n",
    "        sum(when(col(c).isNull() | isnan(c), 1).otherwise(0)).alias(c)  for c in df.columns\n",
    "    ]\n",
    ")\n",
    "null_counts.show()"
   ]
  },
  {
   "cell_type": "markdown",
   "id": "157d1d28-3fee-4ce6-8b0b-bba84dcd9974",
   "metadata": {},
   "source": [
    "# feature selection"
   ]
  },
  {
   "cell_type": "code",
   "execution_count": 7,
   "id": "d14aea96-5bb9-451e-a1b8-079307ea15d3",
   "metadata": {},
   "outputs": [
    {
     "name": "stdout",
     "output_type": "stream",
     "text": [
      "+--------+------+------+----+-----+-----+-------+\n",
      "|survived|pclass|   sex| age|sibsp|parch|   fare|\n",
      "+--------+------+------+----+-----+-----+-------+\n",
      "|       0|     3|  male|22.0|    1|    0|   7.25|\n",
      "|       1|     1|female|38.0|    1|    0|71.2833|\n",
      "|       1|     3|female|26.0|    0|    0|  7.925|\n",
      "|       1|     1|female|35.0|    1|    0|   53.1|\n",
      "|       0|     3|  male|35.0|    0|    0|   8.05|\n",
      "|       0|     3|  male|null|    0|    0| 8.4583|\n",
      "|       0|     1|  male|54.0|    0|    0|51.8625|\n",
      "|       0|     3|  male| 2.0|    3|    1| 21.075|\n",
      "|       1|     3|female|27.0|    0|    2|11.1333|\n",
      "|       1|     2|female|14.0|    1|    0|30.0708|\n",
      "|       1|     3|female| 4.0|    1|    1|   16.7|\n",
      "|       1|     1|female|58.0|    0|    0|  26.55|\n",
      "|       0|     3|  male|20.0|    0|    0|   8.05|\n",
      "|       0|     3|  male|39.0|    1|    5| 31.275|\n",
      "|       0|     3|female|14.0|    0|    0| 7.8542|\n",
      "|       1|     2|female|55.0|    0|    0|   16.0|\n",
      "|       0|     3|  male| 2.0|    4|    1| 29.125|\n",
      "|       1|     2|  male|null|    0|    0|   13.0|\n",
      "|       0|     3|female|31.0|    1|    0|   18.0|\n",
      "|       1|     3|female|null|    0|    0|  7.225|\n",
      "+--------+------+------+----+-----+-----+-------+\n",
      "only showing top 20 rows\n",
      "\n"
     ]
    }
   ],
   "source": [
    "# feature - ?? , target - survived\n",
    "data = df.select(\"survived\", \"pclass\", \"sex\", \"age\", \"sibsp\", \"parch\", \"fare\")\n",
    "data.show()"
   ]
  },
  {
   "cell_type": "code",
   "execution_count": 10,
   "id": "a22cf262-e38a-4309-a58e-5ab73e86a925",
   "metadata": {},
   "outputs": [
    {
     "data": {
      "text/plain": [
       "29.7"
      ]
     },
     "execution_count": 10,
     "metadata": {},
     "output_type": "execute_result"
    }
   ],
   "source": [
    "# 평균값으로 대체(정규분포라 가정)\n",
    "from pyspark.sql.functions import round, avg\n",
    "mean_age = data.select(round(avg(\"age\"), 1)).collect()[0][0]\n",
    "\n",
    "mean_age"
   ]
  },
  {
   "cell_type": "code",
   "execution_count": 11,
   "id": "f31b010b-7e7a-4746-85cc-6c1b3e5edee5",
   "metadata": {},
   "outputs": [
    {
     "name": "stdout",
     "output_type": "stream",
     "text": [
      "+--------+------+------+----+-----+-----+-------+\n",
      "|survived|pclass|   sex| age|sibsp|parch|   fare|\n",
      "+--------+------+------+----+-----+-----+-------+\n",
      "|       0|     3|  male|22.0|    1|    0|   7.25|\n",
      "|       1|     1|female|38.0|    1|    0|71.2833|\n",
      "|       1|     3|female|26.0|    0|    0|  7.925|\n",
      "|       1|     1|female|35.0|    1|    0|   53.1|\n",
      "|       0|     3|  male|35.0|    0|    0|   8.05|\n",
      "|       0|     3|  male|29.7|    0|    0| 8.4583|\n",
      "|       0|     1|  male|54.0|    0|    0|51.8625|\n",
      "|       0|     3|  male| 2.0|    3|    1| 21.075|\n",
      "|       1|     3|female|27.0|    0|    2|11.1333|\n",
      "|       1|     2|female|14.0|    1|    0|30.0708|\n",
      "+--------+------+------+----+-----+-----+-------+\n",
      "only showing top 10 rows\n",
      "\n"
     ]
    }
   ],
   "source": [
    "data = data.fillna( { \"age\" : mean_age })\n",
    "data.show(10)"
   ]
  },
  {
   "cell_type": "markdown",
   "id": "b9934b62-d76c-46dd-a69c-7c959187933f",
   "metadata": {},
   "source": [
    "# encoding\n",
    "- category type > numeric"
   ]
  },
  {
   "cell_type": "code",
   "execution_count": 12,
   "id": "2e08c4e0-a783-4996-af63-a4cf30d785f1",
   "metadata": {},
   "outputs": [],
   "source": [
    "from pyspark.ml.feature import StringIndexer, VectorAssembler"
   ]
  },
  {
   "cell_type": "code",
   "execution_count": 13,
   "id": "695c2eb9-3a84-40e0-b3ce-eb96b90cc8b8",
   "metadata": {},
   "outputs": [
    {
     "name": "stdout",
     "output_type": "stream",
     "text": [
      "+--------+------+------+----+-----+-----+-------+--------+\n",
      "|survived|pclass|   sex| age|sibsp|parch|   fare|SexIndex|\n",
      "+--------+------+------+----+-----+-----+-------+--------+\n",
      "|       0|     3|  male|22.0|    1|    0|   7.25|     0.0|\n",
      "|       1|     1|female|38.0|    1|    0|71.2833|     1.0|\n",
      "|       1|     3|female|26.0|    0|    0|  7.925|     1.0|\n",
      "|       1|     1|female|35.0|    1|    0|   53.1|     1.0|\n",
      "|       0|     3|  male|35.0|    0|    0|   8.05|     0.0|\n",
      "+--------+------+------+----+-----+-----+-------+--------+\n",
      "only showing top 5 rows\n",
      "\n"
     ]
    }
   ],
   "source": [
    "indexer = StringIndexer(inputCol=\"sex\", outputCol=\"SexIndex\")\n",
    "data = indexer.fit(data).transform(data)\n",
    "data.show(5)"
   ]
  },
  {
   "cell_type": "markdown",
   "id": "1d676652-e07e-486e-9a1d-725ab264660a",
   "metadata": {},
   "source": [
    "# feature vector"
   ]
  },
  {
   "cell_type": "code",
   "execution_count": 14,
   "id": "e3bf3c26-96b5-4ae3-96df-b86ac1c7caca",
   "metadata": {},
   "outputs": [
    {
     "data": {
      "text/plain": [
       "DataFrame[survived: int, pclass: int, sex: string, age: double, sibsp: int, parch: int, fare: double, SexIndex: double, features: vector]"
      ]
     },
     "execution_count": 14,
     "metadata": {},
     "output_type": "execute_result"
    }
   ],
   "source": [
    "#target 을 제외한 학습을 위한 피처를 \"features\" 라는 이름으로 어셈블한다.\n",
    "assembler = VectorAssembler(\n",
    "    inputCols=[\"pclass\", \"SexIndex\", \"age\", \"sibsp\", \"parch\", \"fare\"],\n",
    "    outputCol=\"features\"\n",
    ")\n",
    "data = assembler.transform(data)\n",
    "data"
   ]
  },
  {
   "cell_type": "code",
   "execution_count": 15,
   "id": "f7a8bb42-6eb5-410f-91a0-ae002970680b",
   "metadata": {},
   "outputs": [
    {
     "name": "stdout",
     "output_type": "stream",
     "text": [
      "+--------+--------------------+\n",
      "|survived|            features|\n",
      "+--------+--------------------+\n",
      "|       0|[3.0,0.0,22.0,1.0...|\n",
      "|       1|[1.0,1.0,38.0,1.0...|\n",
      "|       1|[3.0,1.0,26.0,0.0...|\n",
      "|       1|[1.0,1.0,35.0,1.0...|\n",
      "|       0|[3.0,0.0,35.0,0.0...|\n",
      "+--------+--------------------+\n",
      "only showing top 5 rows\n",
      "\n"
     ]
    }
   ],
   "source": [
    "#지도학습, 분류모델을 학습시키기 위한 데이터\n",
    "data.select(\"survived\", \"features\").show(5)"
   ]
  },
  {
   "cell_type": "markdown",
   "id": "360aace2-df0a-4ee9-b49f-25c54704e458",
   "metadata": {},
   "source": [
    "# ML 모델 : 데이터 학습 > 평가 > 모델 완성"
   ]
  },
  {
   "cell_type": "markdown",
   "id": "da7cc5d8-cf08-4eb7-b288-dad93a1c360c",
   "metadata": {},
   "source": [
    "## dataset 분할"
   ]
  },
  {
   "cell_type": "code",
   "execution_count": 16,
   "id": "f1c8e4d2-fd0b-4c32-ba1a-efd0a01a4407",
   "metadata": {},
   "outputs": [],
   "source": [
    "train_data, test_data = data.randomSplit([0.8, 0.2], seed = 42 )  #리턴한값목록1 , 목록2"
   ]
  },
  {
   "cell_type": "code",
   "execution_count": 17,
   "id": "c6b3ce8c-ccc9-4b98-9b5f-5a04f3677ade",
   "metadata": {},
   "outputs": [
    {
     "name": "stdout",
     "output_type": "stream",
     "text": [
      "+--------+------+------+----+-----+-----+------+--------+--------------------+\n",
      "|survived|pclass|   sex| age|sibsp|parch|  fare|SexIndex|            features|\n",
      "+--------+------+------+----+-----+-----+------+--------+--------------------+\n",
      "|       0|     1|female| 2.0|    1|    2|151.55|     1.0|[1.0,1.0,2.0,1.0,...|\n",
      "|       0|     1|female|25.0|    1|    2|151.55|     1.0|[1.0,1.0,25.0,1.0...|\n",
      "|       0|     1|  male|18.0|    1|    0| 108.9|     0.0|[1.0,0.0,18.0,1.0...|\n",
      "|       0|     1|  male|19.0|    1|    0|  53.1|     0.0|[1.0,0.0,19.0,1.0...|\n",
      "|       0|     1|  male|19.0|    3|    2| 263.0|     0.0|[1.0,0.0,19.0,3.0...|\n",
      "+--------+------+------+----+-----+-----+------+--------+--------------------+\n",
      "only showing top 5 rows\n",
      "\n",
      "+--------+------+------+----+-----+-----+-------+--------+--------------------+\n",
      "|survived|pclass|   sex| age|sibsp|parch|   fare|SexIndex|            features|\n",
      "+--------+------+------+----+-----+-----+-------+--------+--------------------+\n",
      "|       0|     1|female|50.0|    0|    0|28.7125|     1.0|[1.0,1.0,50.0,0.0...|\n",
      "|       0|     1|  male|21.0|    0|    1|77.2875|     0.0|[1.0,0.0,21.0,0.0...|\n",
      "|       0|     1|  male|24.0|    0|    0|   79.2|     0.0|[1.0,0.0,24.0,0.0...|\n",
      "|       0|     1|  male|29.0|    0|    0|   30.0|     0.0|[1.0,0.0,29.0,0.0...|\n",
      "|       0|     1|  male|29.7|    0|    0|  26.55|     0.0|[1.0,0.0,29.7,0.0...|\n",
      "+--------+------+------+----+-----+-----+-------+--------+--------------------+\n",
      "only showing top 5 rows\n",
      "\n"
     ]
    },
    {
     "data": {
      "text/plain": [
       "(None, None)"
      ]
     },
     "execution_count": 17,
     "metadata": {},
     "output_type": "execute_result"
    }
   ],
   "source": [
    "train_data.show(5), test_data.show(5)"
   ]
  },
  {
   "cell_type": "markdown",
   "id": "98b8f68c-1b46-4f46-8293-8751119a3284",
   "metadata": {},
   "source": [
    "## 분류 예측 model 생성 - 로지스틱 회귀\n",
    "* 분류모델 : 라벨(타겟), 피처"
   ]
  },
  {
   "cell_type": "code",
   "execution_count": 20,
   "id": "9266bc46-f6f8-4dbc-b623-f4bea2d88eb0",
   "metadata": {},
   "outputs": [],
   "source": [
    "from pyspark.ml.classification import LogisticRegression"
   ]
  },
  {
   "cell_type": "code",
   "execution_count": 23,
   "id": "a252ad0a-1778-432d-b75f-f09f3cbc5a5f",
   "metadata": {},
   "outputs": [],
   "source": [
    "# 로지스틱 회귀 모델 생성\n",
    "lr = LogisticRegression(featuresCol=\"features\", labelCol=\"survived\")"
   ]
  },
  {
   "cell_type": "code",
   "execution_count": 25,
   "id": "4e5be247-732b-4e1a-bfb5-7a5adc8abfa8",
   "metadata": {},
   "outputs": [],
   "source": [
    "# 모델 학습\n",
    "lr_model = lr.fit( train_data ) # 80% data > y값(라벨, 타겟)을 결정할 수 있도록 매개변수를 확정"
   ]
  },
  {
   "cell_type": "code",
   "execution_count": 28,
   "id": "e2bc39da-6916-4dd0-89e6-71376467a1c9",
   "metadata": {},
   "outputs": [
    {
     "name": "stdout",
     "output_type": "stream",
     "text": [
      "+--------+------+------+----+-----+-----+-------+--------+--------------------+--------------------+--------------------+----------+\n",
      "|survived|pclass|   sex| age|sibsp|parch|   fare|SexIndex|            features|       rawPrediction|         probability|prediction|\n",
      "+--------+------+------+----+-----+-----+-------+--------+--------------------+--------------------+--------------------+----------+\n",
      "|       0|     1|female|50.0|    0|    0|28.7125|     1.0|[1.0,1.0,50.0,0.0...|[-1.9520304523020...|[0.12433212676219...|       1.0|\n",
      "|       0|     1|  male|21.0|    0|    1|77.2875|     0.0|[1.0,0.0,21.0,0.0...|[-0.5063720911814...|[0.37604437636883...|       1.0|\n",
      "|       0|     1|  male|24.0|    0|    0|   79.2|     0.0|[1.0,0.0,24.0,0.0...|[-0.5000225475885...|[0.37753537004575...|       1.0|\n",
      "|       0|     1|  male|29.0|    0|    0|   30.0|     0.0|[1.0,0.0,29.0,0.0...|[-0.1615683964925...|[0.45969553955569...|       1.0|\n",
      "|       0|     1|  male|29.7|    0|    0|  26.55|     0.0|[1.0,0.0,29.7,0.0...|[-0.1231554701385...|[0.46924998878711...|       1.0|\n",
      "+--------+------+------+----+-----+-----+-------+--------+--------------------+--------------------+--------------------+----------+\n",
      "only showing top 5 rows\n",
      "\n"
     ]
    }
   ],
   "source": [
    "# 모델 시험 : 테스트 데이터 > 결과 확인 - 데이터의 답이 들어있다. > 모델이 맞춘 y값 | 지도학습\n",
    "# 지도학습 : 시간과 비용이 많이 듦.\n",
    "predictions = lr_model.transform( test_data )\n",
    "predictions.show(5)"
   ]
  },
  {
   "cell_type": "code",
   "execution_count": 29,
   "id": "c4faab9e-1131-4af9-8e2f-851924c36c67",
   "metadata": {},
   "outputs": [
    {
     "data": {
      "text/plain": [
       "[Row(features=DenseVector([3.0, 0.0, 29.7, 0.0, 0.0, 56.4958]), survived=1, prediction=0.0),\n",
       " Row(features=DenseVector([3.0, 0.0, 29.7, 2.0, 0.0, 23.25]), survived=1, prediction=0.0),\n",
       " Row(features=DenseVector([3.0, 0.0, 31.0, 0.0, 0.0, 7.925]), survived=1, prediction=0.0),\n",
       " Row(features=DenseVector([3.0, 0.0, 32.0, 0.0, 0.0, 56.4958]), survived=1, prediction=0.0),\n",
       " Row(features=DenseVector([3.0, 0.0, 39.0, 0.0, 0.0, 7.925]), survived=1, prediction=0.0)]"
      ]
     },
     "execution_count": 29,
     "metadata": {},
     "output_type": "execute_result"
    }
   ],
   "source": [
    "predictions.select(\"features\", \"survived\", \"prediction\").tail(5)"
   ]
  },
  {
   "cell_type": "markdown",
   "id": "3c62cc14-c4cb-4c0f-8f7e-6b26b4e9fb08",
   "metadata": {},
   "source": [
    "## 정답갯수 확인"
   ]
  },
  {
   "cell_type": "code",
   "execution_count": 31,
   "id": "a2d0670c-5609-466f-9736-d9b33b9301dc",
   "metadata": {},
   "outputs": [],
   "source": [
    "from pyspark.sql.types import IntegerType\n",
    "from pyspark.sql.functions import expr"
   ]
  },
  {
   "cell_type": "code",
   "execution_count": 32,
   "id": "223c535f-6fec-4472-b169-8bab33e8f10f",
   "metadata": {},
   "outputs": [],
   "source": [
    "predictions = predictions.withColumn( \"survived\", col(\"survived\").cast(IntegerType()))\n",
    "predictions = predictions.withColumn( \"prediction\", col(\"prediction\").cast(IntegerType()))"
   ]
  },
  {
   "cell_type": "code",
   "execution_count": 33,
   "id": "f6cda85b-b8d6-4e88-93ca-c1d2f86240e4",
   "metadata": {},
   "outputs": [
    {
     "data": {
      "text/plain": [
       "28"
      ]
     },
     "execution_count": 33,
     "metadata": {},
     "output_type": "execute_result"
    }
   ],
   "source": [
    "# correct column 추가\n",
    "compare = predictions.withColumn( \"correct\", expr(\"case when survived=prediction then 1 else 0 end\") )\n",
    "compare.where('correct=0').count() #틀린 갯수 확인"
   ]
  },
  {
   "cell_type": "markdown",
   "id": "71151745-57c4-4ec7-93f6-0cbe770c6cf2",
   "metadata": {},
   "source": [
    "## 정확도 계산 | 모델의 점수"
   ]
  },
  {
   "cell_type": "code",
   "execution_count": 34,
   "id": "d6e303e7-f45f-4503-86da-640a233d12e4",
   "metadata": {},
   "outputs": [
    {
     "data": {
      "text/plain": [
       "0.8068965517241379"
      ]
     },
     "execution_count": 34,
     "metadata": {},
     "output_type": "execute_result"
    }
   ],
   "source": [
    "accu = compare.selectExpr(\"avg(correct) as accuracy\").collect()[0]['accuracy']\n",
    "accu"
   ]
  },
  {
   "cell_type": "markdown",
   "id": "084ff4e6-da10-4d4a-a1ba-ca799adf1cf6",
   "metadata": {},
   "source": [
    "## 평가기 evaluator"
   ]
  },
  {
   "cell_type": "code",
   "execution_count": 35,
   "id": "a0e8d69c-9c4f-42bd-be3a-0715038454c5",
   "metadata": {},
   "outputs": [],
   "source": [
    "from pyspark.ml.evaluation import BinaryClassificationEvaluator"
   ]
  },
  {
   "cell_type": "code",
   "execution_count": 36,
   "id": "b6399136-77b1-4860-9bc0-2207dabd3594",
   "metadata": {},
   "outputs": [
    {
     "data": {
      "text/plain": [
       "BinaryClassificationEvaluator_a74462ca859f"
      ]
     },
     "execution_count": 36,
     "metadata": {},
     "output_type": "execute_result"
    }
   ],
   "source": [
    "# 모델별로 평가지표, 메트릭\n",
    "# 분류모델의 평가지표 중에서 AUC 계산한다.\n",
    "\n",
    "evaluator = BinaryClassificationEvaluator(labelCol=\"survived\", rawPredictionCol='rawPrediction', metricName=\"areaUnderROC\")\n",
    "evaluator"
   ]
  },
  {
   "cell_type": "code",
   "execution_count": 37,
   "id": "36db7f09-4d06-4128-b6c3-d3c12fcee6e3",
   "metadata": {},
   "outputs": [
    {
     "data": {
      "text/plain": [
       "0.8664129586260734"
      ]
     },
     "execution_count": 37,
     "metadata": {},
     "output_type": "execute_result"
    }
   ],
   "source": [
    "auc = evaluator.evaluate(predictions)\n",
    "auc"
   ]
  },
  {
   "cell_type": "markdown",
   "id": "1e3a9356-3172-41bb-805d-00164c7756b2",
   "metadata": {},
   "source": [
    "## 모델 설명\n",
    "\n",
    "* 위 모델은 가지고 있는 값을 그대로(문자를 숫자로만 바꾸어) 제작함.\n",
    "* 피처값들의 스케일을 고려하면 모델의 성능이 향상될 것임.\n",
    "* 데이터의 특성을 반영한 모델을 생성하는 것이 데이터분석가의 역할  \n",
    "  → 분석가들이 도메인을 잘 알아야 하는 이유"
   ]
  },
  {
   "cell_type": "markdown",
   "id": "45693056-ff76-43f5-ace0-1ad3cf25c947",
   "metadata": {},
   "source": [
    "## pyspark의 mllib 설명\n",
    "- 분산 객체(데이터)를 기반으로 학습하고 예측하는 모델.\n",
    "- 분산되어있다는 전제 하에서 출발"
   ]
  },
  {
   "cell_type": "code",
   "execution_count": 38,
   "id": "ce871339-d73c-4e30-88ae-038211c02c78",
   "metadata": {},
   "outputs": [],
   "source": [
    "spark.stop()"
   ]
  }
 ],
 "metadata": {
  "kernelspec": {
   "display_name": "Python (spark_start)",
   "language": "python",
   "name": "spark_start"
  },
  "language_info": {
   "codemirror_mode": {
    "name": "ipython",
    "version": 3
   },
   "file_extension": ".py",
   "mimetype": "text/x-python",
   "name": "python",
   "nbconvert_exporter": "python",
   "pygments_lexer": "ipython3",
   "version": "3.8.20"
  }
 },
 "nbformat": 4,
 "nbformat_minor": 5
}

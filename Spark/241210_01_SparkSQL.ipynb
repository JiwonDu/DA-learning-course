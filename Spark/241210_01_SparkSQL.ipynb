{
 "cells": [
  {
   "cell_type": "code",
   "execution_count": 1,
   "id": "7f7b88ba-4e3c-4b71-9456-29d00a8df256",
   "metadata": {},
   "outputs": [
    {
     "name": "stderr",
     "output_type": "stream",
     "text": [
      "24/12/10 13:29:13 WARN NativeCodeLoader: Unable to load native-hadoop library for your platform... using builtin-java classes where applicable\n",
      "Using Spark's default log4j profile: org/apache/spark/log4j-defaults.properties\n",
      "Setting default log level to \"WARN\".\n",
      "To adjust logging level use sc.setLogLevel(newLevel). For SparkR, use setLogLevel(newLevel).\n"
     ]
    }
   ],
   "source": [
    "from pyspark import SparkConf, SparkContext\n",
    "conf = SparkConf().setMaster(\"local\").setAppName(\"spark_sql_basic1\")\n",
    "sc   = SparkContext(conf=conf)"
   ]
  },
  {
   "cell_type": "code",
   "execution_count": 3,
   "id": "a319afbb-a3e0-49a8-83c9-a2d6137bb3c6",
   "metadata": {},
   "outputs": [],
   "source": [
    "movies_rdd = sc.parallelize([\n",
    "    (1, (\"어벤져스\", \"마블\")),\n",
    "    (2, (\"슈퍼맨\", \"DC\")),\n",
    "    (3, (\"배트맨\", \"DC\")),\n",
    "    (4, (\"겨울왕국\", \"디즈니\")),\n",
    "    (5, (\"아이언맨\", \"마블\"))\n",
    "])\n",
    "\n",
    "\n",
    "attendances_rdd = sc.parallelize([\n",
    "    (1, (13934592, \"KR\")),\n",
    "    (2, (2182227,\"KR\")),\n",
    "    (3, (4226242, \"KR\")),\n",
    "    (4, (10303058, \"KR\")),\n",
    "    (5, (4300365, \"KR\"))\n",
    "])"
   ]
  },
  {
   "cell_type": "markdown",
   "id": "d131b288-158c-46bc-b680-605b6d49aeb0",
   "metadata": {},
   "source": [
    "# 관객수가 500만 이상인 영화를 가져오기\n",
    "1. 조인 > 필터 > 영화정보\n",
    "2. 필터 > 조인 > 영화정보"
   ]
  },
  {
   "cell_type": "code",
   "execution_count": 4,
   "id": "8aed1126-50df-4684-a835-3f217f937db1",
   "metadata": {},
   "outputs": [
    {
     "name": "stderr",
     "output_type": "stream",
     "text": [
      "                                                                                "
     ]
    },
    {
     "data": {
      "text/plain": [
       "[(4, (('겨울왕국', '디즈니'), (10303058, 'KR'))),\n",
       " (1, (('어벤져스', '마블'), (13934592, 'KR')))]"
      ]
     },
     "execution_count": 4,
     "metadata": {},
     "output_type": "execute_result"
    }
   ],
   "source": [
    "# 1번 방법\n",
    "movies_att = movies_rdd.join(attendances_rdd)\n",
    "movies_att.filter(\n",
    "    lambda x:x[1][1][0] > 5000000\n",
    ").collect()"
   ]
  },
  {
   "cell_type": "code",
   "execution_count": 5,
   "id": "c87d9721-0321-4727-a8ff-d0d7984eca74",
   "metadata": {},
   "outputs": [
    {
     "data": {
      "text/plain": [
       "[(4, (('겨울왕국', '디즈니'), (10303058, 'KR'))),\n",
       " (1, (('어벤져스', '마블'), (13934592, 'KR')))]"
      ]
     },
     "execution_count": 5,
     "metadata": {},
     "output_type": "execute_result"
    }
   ],
   "source": [
    "# 2번 방법\n",
    "filtered_att = attendances_rdd.filter(lambda x:x[1][0]>5000000)\n",
    "movies_rdd.join(filtered_att).collect()"
   ]
  },
  {
   "cell_type": "code",
   "execution_count": 2,
   "id": "e111da4a-154a-4bf8-8c1e-f75c6ef28f6e",
   "metadata": {},
   "outputs": [],
   "source": [
    "from pyspark.sql import SparkSession\n",
    "spark = SparkSession.builder.appName(\"spark_sql_basic\").getOrCreate()"
   ]
  },
  {
   "cell_type": "code",
   "execution_count": 6,
   "id": "9ee92273-d9e8-4e1f-82df-03769fc920cb",
   "metadata": {},
   "outputs": [],
   "source": [
    "movies = [\n",
    "    (1, \"어벤져스\", \"마블\", 2012, 4, 26),\n",
    "    (2, \"슈퍼맨\", \"DC\", 2013, 6, 13),\n",
    "    (3, \"배트맨\", \"DC\", 2008, 8, 6),\n",
    "    (4, \"겨울왕국\", \"디즈니\", 2014, 1, 16),\n",
    "    (5, \"아이언맨\", \"마블\", 2008, 4, 30)\n",
    "]"
   ]
  },
  {
   "cell_type": "code",
   "execution_count": 7,
   "id": "01416796-68b0-4357-a1e4-9c11943d7565",
   "metadata": {},
   "outputs": [],
   "source": [
    "movie_schema = ['id', 'name', 'company', 'year', 'month', 'day']"
   ]
  },
  {
   "cell_type": "markdown",
   "id": "4fd58b2a-d582-47ef-8162-081658ea6621",
   "metadata": {},
   "source": [
    "# 1. DataFrame 만들기"
   ]
  },
  {
   "cell_type": "code",
   "execution_count": 8,
   "id": "103c63d9-6d2a-406d-98a1-e00adadccab6",
   "metadata": {},
   "outputs": [],
   "source": [
    "df = spark.createDataFrame(data=movies, schema= movie_schema)"
   ]
  },
  {
   "cell_type": "code",
   "execution_count": 9,
   "id": "0a184540-f8d5-4751-ad1e-b8b3b2934339",
   "metadata": {},
   "outputs": [
    {
     "data": {
      "text/plain": [
       "[('id', 'bigint'),\n",
       " ('name', 'string'),\n",
       " ('company', 'string'),\n",
       " ('year', 'bigint'),\n",
       " ('month', 'bigint'),\n",
       " ('day', 'bigint')]"
      ]
     },
     "execution_count": 9,
     "metadata": {},
     "output_type": "execute_result"
    }
   ],
   "source": [
    "df.dtypes"
   ]
  },
  {
   "cell_type": "code",
   "execution_count": 10,
   "id": "02074faa-6dab-4d7f-85cb-c17e6fc0d485",
   "metadata": {},
   "outputs": [
    {
     "name": "stdout",
     "output_type": "stream",
     "text": [
      "+---+--------+-------+----+-----+---+\n",
      "| id|    name|company|year|month|day|\n",
      "+---+--------+-------+----+-----+---+\n",
      "|  1|어벤져스|   마블|2012|    4| 26|\n",
      "|  2|  슈퍼맨|     DC|2013|    6| 13|\n",
      "|  3|  배트맨|     DC|2008|    8|  6|\n",
      "|  4|겨울왕국| 디즈니|2014|    1| 16|\n",
      "|  5|아이언맨|   마블|2008|    4| 30|\n",
      "+---+--------+-------+----+-----+---+\n",
      "\n"
     ]
    }
   ],
   "source": [
    "df.show()"
   ]
  },
  {
   "cell_type": "code",
   "execution_count": 11,
   "id": "24f58e58-397a-4b15-95b7-948d68ed53a2",
   "metadata": {},
   "outputs": [
    {
     "name": "stdout",
     "output_type": "stream",
     "text": [
      "+--------+\n",
      "|    name|\n",
      "+--------+\n",
      "|어벤져스|\n",
      "|  슈퍼맨|\n",
      "|  배트맨|\n",
      "|겨울왕국|\n",
      "|아이언맨|\n",
      "+--------+\n",
      "\n"
     ]
    }
   ],
   "source": [
    "df.select('name').show()"
   ]
  },
  {
   "cell_type": "code",
   "execution_count": 12,
   "id": "55c94972-f65f-4a49-b830-59fc2efe2aa6",
   "metadata": {},
   "outputs": [
    {
     "name": "stdout",
     "output_type": "stream",
     "text": [
      "+---+--------+-------+----+-----+---+\n",
      "| id|    name|company|year|month|day|\n",
      "+---+--------+-------+----+-----+---+\n",
      "|  1|어벤져스|   마블|2012|    4| 26|\n",
      "|  2|  슈퍼맨|     DC|2013|    6| 13|\n",
      "|  3|  배트맨|     DC|2008|    8|  6|\n",
      "|  4|겨울왕국| 디즈니|2014|    1| 16|\n",
      "|  5|아이언맨|   마블|2008|    4| 30|\n",
      "+---+--------+-------+----+-----+---+\n",
      "\n"
     ]
    }
   ],
   "source": [
    "df.filter(df.year>=2000).show() #col 객체"
   ]
  },
  {
   "cell_type": "markdown",
   "id": "630138b9-554f-4f72-84cc-11d3064b2aac",
   "metadata": {},
   "source": [
    "# SQL을 사용하기 위해 View 등록"
   ]
  },
  {
   "cell_type": "code",
   "execution_count": 13,
   "id": "4637f941-97a6-4729-ae89-ff08a52860bc",
   "metadata": {},
   "outputs": [],
   "source": [
    "df.createOrReplaceTempView('movies')  #view name, table name"
   ]
  },
  {
   "cell_type": "code",
   "execution_count": 14,
   "id": "918103be-a09e-4201-a3a6-4915f1cfc14a",
   "metadata": {},
   "outputs": [
    {
     "name": "stdout",
     "output_type": "stream",
     "text": [
      "+--------+\n",
      "|    name|\n",
      "+--------+\n",
      "|어벤져스|\n",
      "|  슈퍼맨|\n",
      "|  배트맨|\n",
      "|겨울왕국|\n",
      "|아이언맨|\n",
      "+--------+\n",
      "\n"
     ]
    }
   ],
   "source": [
    "#view 를 select projection하는 문장\n",
    "\n",
    "query = '''\n",
    "select name from movies\n",
    "'''\n",
    "\n",
    "spark.sql(query).show()\n"
   ]
  },
  {
   "cell_type": "code",
   "execution_count": 15,
   "id": "8d83c753-614c-4f5f-b72b-a421ff806f96",
   "metadata": {},
   "outputs": [],
   "source": [
    "#2010 년 이후 개봉한 영화 조회\n",
    "\n",
    "query = '''\n",
    "select name, company\n",
    "from movies\n",
    "where year>=2010\n",
    "'''"
   ]
  },
  {
   "cell_type": "code",
   "execution_count": 16,
   "id": "99fd25bb-c1ee-4371-b0e4-19b5827970d3",
   "metadata": {},
   "outputs": [
    {
     "name": "stdout",
     "output_type": "stream",
     "text": [
      "+--------+-------+\n",
      "|    name|company|\n",
      "+--------+-------+\n",
      "|어벤져스|   마블|\n",
      "|  슈퍼맨|     DC|\n",
      "|겨울왕국| 디즈니|\n",
      "+--------+-------+\n",
      "\n"
     ]
    }
   ],
   "source": [
    "spark.sql(query).show()"
   ]
  },
  {
   "cell_type": "code",
   "execution_count": 27,
   "id": "b8826d35-1dd5-47c8-8591-f436b18b7b49",
   "metadata": {},
   "outputs": [],
   "source": [
    "# 회사가 마블인 영화 목록\n",
    "query = '''\n",
    "select name, company\n",
    "from movies\n",
    "where company='마블'\n",
    "'''"
   ]
  },
  {
   "cell_type": "code",
   "execution_count": 28,
   "id": "4f0efb43-c2d7-4965-ab11-091cd5c9c790",
   "metadata": {},
   "outputs": [
    {
     "name": "stdout",
     "output_type": "stream",
     "text": [
      "+--------+-------+\n",
      "|    name|company|\n",
      "+--------+-------+\n",
      "|어벤져스|   마블|\n",
      "|아이언맨|   마블|\n",
      "+--------+-------+\n",
      "\n"
     ]
    }
   ],
   "source": [
    "spark.sql(query).show()"
   ]
  },
  {
   "cell_type": "code",
   "execution_count": null,
   "id": "8bd0e310-3b68-4b64-80e0-1ae6593d79de",
   "metadata": {},
   "outputs": [],
   "source": [
    "# 맨으로 끝나는 영화 추출\n",
    "where name like '%맨'\n",
    "\n",
    "# ~이~가 들어가는 영화 추출\n",
    "where name like '%이%'\n",
    "\n",
    "# 개봉일이 4~8월 사이\n",
    "where month between 4 and 8"
   ]
  },
  {
   "cell_type": "code",
   "execution_count": null,
   "id": "352f7d95-d1a1-4b2d-84c2-45a561eca266",
   "metadata": {},
   "outputs": [],
   "source": [
    "# and, or\n",
    "\n",
    "# ~맨으로 끝나면서 개봉연도가 2010년 이하\n",
    "where name like '%맨' and\n",
    "year <= 2010\n",
    "\n",
    "# 회사가 마블이거나 dc인 영화\n",
    "where company ='마블' OR company = 'dc'\n",
    "\n",
    "# 선생님 방법\n",
    "where company in ('마블', 'DC')\n",
    "\n",
    "# 회사가 \"마\"로 시작을 하거나, \"니\"로 끝나는 영화\n",
    "where company like '마%' or company like '%니'\n",
    "\n",
    "# 회사가 \"마\"로 시작을 하거나, \"니\"로 끝나는 영화 중 2010년 이후로 개봉한 영화\n",
    "where (company like '마%' or company like '%니') \n",
    "and year >= 2010"
   ]
  },
  {
   "cell_type": "code",
   "execution_count": null,
   "id": "1f7edfc9-5d76-4a38-aa7b-678b8fc340b1",
   "metadata": {},
   "outputs": [],
   "source": [
    "# 개봉 연도 오름차순으로 확인\n",
    "order by year ASC  #내림차순 : DESC"
   ]
  },
  {
   "cell_type": "code",
   "execution_count": null,
   "id": "d5656d92-fa50-48d9-9bc1-8f036a68b538",
   "metadata": {},
   "outputs": [],
   "source": [
    "# count(*) : count는 특정 조건을 만족하는 행의 수를 셈. Null값 포함\n",
    "# count(name) : 특정 열의 Null이 아닌 값의 수를 셈.\n",
    "# mean : AVG() 특정 열의 평균값 계산\n",
    "# sum : 특정 열의 모든 값 합산"
   ]
  },
  {
   "cell_type": "code",
   "execution_count": 30,
   "id": "352310f3-852d-4564-a86d-c58f5b328f88",
   "metadata": {},
   "outputs": [],
   "source": [
    "attendances = [\n",
    "    (1, 13934592., \"KR\"),\n",
    "    (2, 2182227.,\"KR\"),\n",
    "    (3, 4226242., \"KR\"),\n",
    "    (4, 10303058., \"KR\"),\n",
    "    (5, 4300365., \"KR\")\n",
    "]"
   ]
  },
  {
   "cell_type": "code",
   "execution_count": 31,
   "id": "539147d5-991d-4d67-9259-ba7c7f3b402c",
   "metadata": {},
   "outputs": [],
   "source": [
    "from pyspark.sql.types import StringType, IntegerType, FloatType, StructType, StructField\n",
    "\n",
    "att_schema = StructType([ # 모든 컬럼의 타입을 통칭 - 컬럼 데이터의 집합\n",
    "    StructField(\"id\", IntegerType(), True), # StructField : 컬럼\n",
    "    StructField(\"att\", FloatType(), True),\n",
    "    StructField(\"theater_country\", StringType(), True)\n",
    "])"
   ]
  },
  {
   "cell_type": "code",
   "execution_count": 32,
   "id": "cbeccb4e-60cb-4484-af40-8eb23722f1a4",
   "metadata": {},
   "outputs": [
    {
     "data": {
      "text/plain": [
       "[('id', 'int'), ('att', 'float'), ('theater_country', 'string')]"
      ]
     },
     "execution_count": 32,
     "metadata": {},
     "output_type": "execute_result"
    }
   ],
   "source": [
    "att_df = spark.createDataFrame( data=attendances, schema = att_schema )\n",
    "att_df.dtypes"
   ]
  },
  {
   "cell_type": "code",
   "execution_count": 33,
   "id": "60cc544a-1040-4a9c-bd6c-2ea79dc02f9c",
   "metadata": {},
   "outputs": [
    {
     "name": "stdout",
     "output_type": "stream",
     "text": [
      "+---+-----------+---------------+\n",
      "| id|        att|theater_country|\n",
      "+---+-----------+---------------+\n",
      "|  1|1.3934592E7|             KR|\n",
      "|  2|  2182227.0|             KR|\n",
      "|  3|  4226242.0|             KR|\n",
      "|  4|1.0303058E7|             KR|\n",
      "|  5|  4300365.0|             KR|\n",
      "+---+-----------+---------------+\n",
      "\n"
     ]
    }
   ],
   "source": [
    "att_df.show()"
   ]
  },
  {
   "cell_type": "code",
   "execution_count": 34,
   "id": "c2de56ae-150c-48bc-a264-c1984012b604",
   "metadata": {},
   "outputs": [],
   "source": [
    "att_df.createOrReplaceTempView('att')"
   ]
  },
  {
   "cell_type": "code",
   "execution_count": 35,
   "id": "135bcb12-56db-4bf8-998b-928e3b36dda5",
   "metadata": {},
   "outputs": [
    {
     "name": "stdout",
     "output_type": "stream",
     "text": [
      "+---+-----------+---------------+\n",
      "| id|        att|theater_country|\n",
      "+---+-----------+---------------+\n",
      "|  1|1.3934592E7|             KR|\n",
      "|  2|  2182227.0|             KR|\n",
      "|  3|  4226242.0|             KR|\n",
      "|  4|1.0303058E7|             KR|\n",
      "|  5|  4300365.0|             KR|\n",
      "+---+-----------+---------------+\n",
      "\n"
     ]
    }
   ],
   "source": [
    "att_df.select('*').show()"
   ]
  },
  {
   "cell_type": "code",
   "execution_count": 36,
   "id": "c58c7787-e1a5-4e41-a048-fc40c7697aa2",
   "metadata": {},
   "outputs": [],
   "source": [
    "query = '''\n",
    "select *\n",
    "from movies JOIN att ON movies.id = att.id\n",
    "'''"
   ]
  },
  {
   "cell_type": "code",
   "execution_count": 37,
   "id": "1803dd25-eef4-4235-87e9-0341de179837",
   "metadata": {},
   "outputs": [
    {
     "name": "stderr",
     "output_type": "stream",
     "text": [
      "                                                                                "
     ]
    },
    {
     "name": "stdout",
     "output_type": "stream",
     "text": [
      "+---+--------+-------+----+-----+---+---+-----------+---------------+\n",
      "| id|    name|company|year|month|day| id|        att|theater_country|\n",
      "+---+--------+-------+----+-----+---+---+-----------+---------------+\n",
      "|  5|아이언맨|   마블|2008|    4| 30|  5|  4300365.0|             KR|\n",
      "|  1|어벤져스|   마블|2012|    4| 26|  1|1.3934592E7|             KR|\n",
      "|  3|  배트맨|     DC|2008|    8|  6|  3|  4226242.0|             KR|\n",
      "|  2|  슈퍼맨|     DC|2013|    6| 13|  2|  2182227.0|             KR|\n",
      "|  4|겨울왕국| 디즈니|2014|    1| 16|  4|1.0303058E7|             KR|\n",
      "+---+--------+-------+----+-----+---+---+-----------+---------------+\n",
      "\n"
     ]
    },
    {
     "name": "stderr",
     "output_type": "stream",
     "text": [
      "                                                                                "
     ]
    }
   ],
   "source": [
    "spark.sql(query).show()"
   ]
  },
  {
   "cell_type": "code",
   "execution_count": 38,
   "id": "7d92ec84-97d6-4e17-a694-04cfab6fd26e",
   "metadata": {},
   "outputs": [],
   "source": [
    "# 중복된 열이 싫다면\n",
    "\n",
    "query = '''\n",
    "SELECT \n",
    "    movies.id, \n",
    "    name, \n",
    "    company, \n",
    "    year, \n",
    "    month, \n",
    "    day, \n",
    "    att, \n",
    "    theater_country\n",
    "FROM \n",
    "    movies \n",
    "JOIN \n",
    "    att \n",
    "ON \n",
    "    movies.id = att.id\n",
    "\n",
    "'''"
   ]
  },
  {
   "cell_type": "code",
   "execution_count": 39,
   "id": "0fe892bd-f2f2-4a5f-9230-a9baa696fac3",
   "metadata": {},
   "outputs": [
    {
     "name": "stderr",
     "output_type": "stream",
     "text": [
      "                                                                                "
     ]
    },
    {
     "name": "stdout",
     "output_type": "stream",
     "text": [
      "+---+--------+-------+----+-----+---+-----------+---------------+\n",
      "| id|    name|company|year|month|day|        att|theater_country|\n",
      "+---+--------+-------+----+-----+---+-----------+---------------+\n",
      "|  5|아이언맨|   마블|2008|    4| 30|  4300365.0|             KR|\n",
      "|  1|어벤져스|   마블|2012|    4| 26|1.3934592E7|             KR|\n",
      "|  3|  배트맨|     DC|2008|    8|  6|  4226242.0|             KR|\n",
      "|  2|  슈퍼맨|     DC|2013|    6| 13|  2182227.0|             KR|\n",
      "|  4|겨울왕국| 디즈니|2014|    1| 16|1.0303058E7|             KR|\n",
      "+---+--------+-------+----+-----+---+-----------+---------------+\n",
      "\n"
     ]
    }
   ],
   "source": [
    "spark.sql(query).show()"
   ]
  },
  {
   "cell_type": "code",
   "execution_count": 48,
   "id": "921042f0-08ab-4895-abce-42d9013135c3",
   "metadata": {},
   "outputs": [],
   "source": [
    "#  ➕ 다른 방법 : using. 단 컬럼 이름이 같아야 함. (RENAME후 USING이 나을 듯함.)\n",
    "query = '''\n",
    "SELECT *\n",
    "FROM movies \n",
    "JOIN att \n",
    "USING (id)\n",
    "'''\n",
    "\n",
    "# 컬럼 이름 다를 때 : ALTER TABLE att RENAME COLUMN attendance_id TO id;"
   ]
  },
  {
   "cell_type": "code",
   "execution_count": 41,
   "id": "345f1686-3602-42ee-acaa-9a034aac1952",
   "metadata": {},
   "outputs": [
    {
     "name": "stderr",
     "output_type": "stream",
     "text": [
      "                                                                                "
     ]
    },
    {
     "name": "stdout",
     "output_type": "stream",
     "text": [
      "+---+--------+-------+----+-----+---+-----------+---------------+\n",
      "| id|    name|company|year|month|day|        att|theater_country|\n",
      "+---+--------+-------+----+-----+---+-----------+---------------+\n",
      "|  5|아이언맨|   마블|2008|    4| 30|  4300365.0|             KR|\n",
      "|  1|어벤져스|   마블|2012|    4| 26|1.3934592E7|             KR|\n",
      "|  3|  배트맨|     DC|2008|    8|  6|  4226242.0|             KR|\n",
      "|  2|  슈퍼맨|     DC|2013|    6| 13|  2182227.0|             KR|\n",
      "|  4|겨울왕국| 디즈니|2014|    1| 16|1.0303058E7|             KR|\n",
      "+---+--------+-------+----+-----+---+-----------+---------------+\n",
      "\n"
     ]
    }
   ],
   "source": [
    "spark.sql(query).show()"
   ]
  },
  {
   "cell_type": "code",
   "execution_count": 42,
   "id": "8276c34d-1ac4-4e67-a9c4-d1bc4bb375a8",
   "metadata": {},
   "outputs": [],
   "source": [
    "moviews_views = spark.sql(query)"
   ]
  },
  {
   "cell_type": "code",
   "execution_count": 43,
   "id": "9a3afb14-56a9-438b-a94c-2114f50044f4",
   "metadata": {},
   "outputs": [],
   "source": [
    "moviews_views.createOrReplaceTempView('movies_view')"
   ]
  },
  {
   "cell_type": "code",
   "execution_count": 44,
   "id": "64235c0f-252c-4b88-a0bf-5e9ff4470465",
   "metadata": {},
   "outputs": [],
   "source": [
    "query = '''\n",
    "select * from movies_view\n",
    "'''"
   ]
  },
  {
   "cell_type": "code",
   "execution_count": 45,
   "id": "0af0363f-01c4-4464-8d49-9a9b1c363baf",
   "metadata": {},
   "outputs": [
    {
     "name": "stdout",
     "output_type": "stream",
     "text": [
      "+---+--------+-------+----+-----+---+-----------+---------------+\n",
      "| id|    name|company|year|month|day|        att|theater_country|\n",
      "+---+--------+-------+----+-----+---+-----------+---------------+\n",
      "|  5|아이언맨|   마블|2008|    4| 30|  4300365.0|             KR|\n",
      "|  1|어벤져스|   마블|2012|    4| 26|1.3934592E7|             KR|\n",
      "|  3|  배트맨|     DC|2008|    8|  6|  4226242.0|             KR|\n",
      "|  2|  슈퍼맨|     DC|2013|    6| 13|  2182227.0|             KR|\n",
      "|  4|겨울왕국| 디즈니|2014|    1| 16|1.0303058E7|             KR|\n",
      "+---+--------+-------+----+-----+---+-----------+---------------+\n",
      "\n"
     ]
    }
   ],
   "source": [
    "spark.sql(query).show()"
   ]
  },
  {
   "cell_type": "code",
   "execution_count": 49,
   "id": "2eee25c7-0514-41b6-b007-b6270be85efb",
   "metadata": {},
   "outputs": [],
   "source": [
    "sc.stop()"
   ]
  },
  {
   "cell_type": "code",
   "execution_count": 50,
   "id": "2ac90311-3b0a-426a-9afc-7f4a643a6a57",
   "metadata": {},
   "outputs": [],
   "source": [
    "spark.stop()"
   ]
  }
 ],
 "metadata": {
  "kernelspec": {
   "display_name": "Python (spark_start)",
   "language": "python",
   "name": "spark_start"
  },
  "language_info": {
   "codemirror_mode": {
    "name": "ipython",
    "version": 3
   },
   "file_extension": ".py",
   "mimetype": "text/x-python",
   "name": "python",
   "nbconvert_exporter": "python",
   "pygments_lexer": "ipython3",
   "version": "3.8.20"
  }
 },
 "nbformat": 4,
 "nbformat_minor": 5
}

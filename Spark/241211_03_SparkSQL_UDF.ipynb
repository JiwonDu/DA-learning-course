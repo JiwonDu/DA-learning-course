{
 "cells": [
  {
   "cell_type": "code",
   "execution_count": 1,
   "id": "310d7665-179f-41fd-954c-6c907b96718b",
   "metadata": {},
   "outputs": [
    {
     "name": "stderr",
     "output_type": "stream",
     "text": [
      "24/12/11 16:10:46 WARN NativeCodeLoader: Unable to load native-hadoop library for your platform... using builtin-java classes where applicable\n",
      "Using Spark's default log4j profile: org/apache/spark/log4j-defaults.properties\n",
      "Setting default log level to \"WARN\".\n",
      "To adjust logging level use sc.setLogLevel(newLevel). For SparkR, use setLogLevel(newLevel).\n"
     ]
    }
   ],
   "source": [
    "from pyspark.sql import SparkSession\n",
    "\n",
    "spark = SparkSession.builder.appName(\"241211_03_SparkSQL_UDF\").getOrCreate()"
   ]
  },
  {
   "cell_type": "code",
   "execution_count": 2,
   "id": "73705d09-20c3-4701-b8cb-61a69134ffec",
   "metadata": {},
   "outputs": [],
   "source": [
    "datas = [\n",
    "    (\"A\", \"2022-04-16\", 31200),\n",
    "    (\"B\", \"2022-04-17\", 41200),\n",
    "    (\"C\", \"2022-04-11\", 31500),\n",
    "    (\"D\", \"2022-04-12\", 21500),\n",
    "    (\"E\", \"2022-04-13\", 51000)\n",
    "]\n",
    "columns = [\"product\", \"date\", \"price\"]"
   ]
  },
  {
   "cell_type": "code",
   "execution_count": 3,
   "id": "c3dd6c28-55e0-4c01-b225-3cd1c352b4ad",
   "metadata": {},
   "outputs": [
    {
     "name": "stderr",
     "output_type": "stream",
     "text": [
      "                                                                                "
     ]
    },
    {
     "name": "stdout",
     "output_type": "stream",
     "text": [
      "+-------+----------+-----+\n",
      "|product|      date|price|\n",
      "+-------+----------+-----+\n",
      "|      A|2022-04-16|31200|\n",
      "|      B|2022-04-17|41200|\n",
      "|      C|2022-04-11|31500|\n",
      "|      D|2022-04-12|21500|\n",
      "|      E|2022-04-13|51000|\n",
      "+-------+----------+-----+\n",
      "\n"
     ]
    }
   ],
   "source": [
    "df = spark.createDataFrame(data=datas, schema=columns)\n",
    "df.show()"
   ]
  },
  {
   "cell_type": "markdown",
   "id": "762799d5-caea-4ac8-b39c-d78964af2919",
   "metadata": {},
   "source": [
    "# udf \n",
    "\n",
    "user defined function : query 에서 사용하는 사용자정의함수\n",
    "\n",
    "1. 파이썬의 함수로 정의한다.\n",
    "2. spark.udf.register()로 등록한다.\n",
    "3. sql 문 안에서 func 처럼 사용한다."
   ]
  },
  {
   "cell_type": "code",
   "execution_count": 4,
   "id": "4ef36490-fa09-4064-9fd4-9dfc503f1aaf",
   "metadata": {},
   "outputs": [],
   "source": [
    "from pyspark.sql.types import LongType\n",
    "\n",
    "def squared(n):\n",
    "    return n*n"
   ]
  },
  {
   "cell_type": "code",
   "execution_count": 5,
   "id": "a688c141-eef8-4daa-9518-eb65a6b3e596",
   "metadata": {},
   "outputs": [
    {
     "data": {
      "text/plain": [
       "9"
      ]
     },
     "execution_count": 5,
     "metadata": {},
     "output_type": "execute_result"
    }
   ],
   "source": [
    "squared(3)"
   ]
  },
  {
   "cell_type": "code",
   "execution_count": 6,
   "id": "d14e288c-fbf7-4742-ae76-afad17657a33",
   "metadata": {},
   "outputs": [
    {
     "data": {
      "text/plain": [
       "<function __main__.squared(n)>"
      ]
     },
     "execution_count": 6,
     "metadata": {},
     "output_type": "execute_result"
    }
   ],
   "source": [
    "spark.udf.register('squared', squared, LongType())"
   ]
  },
  {
   "cell_type": "code",
   "execution_count": 7,
   "id": "5af0f484-5bea-4fe7-ae47-58193e8f8f13",
   "metadata": {},
   "outputs": [],
   "source": [
    "df.createOrReplaceTempView('product')"
   ]
  },
  {
   "cell_type": "code",
   "execution_count": 8,
   "id": "49e0c398-0d25-4bb1-a2e6-171be10c0854",
   "metadata": {},
   "outputs": [
    {
     "name": "stdout",
     "output_type": "stream",
     "text": [
      "+-------+----------+-----+\n",
      "|product|      date|price|\n",
      "+-------+----------+-----+\n",
      "|      A|2022-04-16|31200|\n",
      "|      B|2022-04-17|41200|\n",
      "|      C|2022-04-11|31500|\n",
      "|      D|2022-04-12|21500|\n",
      "|      E|2022-04-13|51000|\n",
      "+-------+----------+-----+\n",
      "\n"
     ]
    }
   ],
   "source": [
    "spark.sql('select * from product').show()"
   ]
  },
  {
   "cell_type": "code",
   "execution_count": 9,
   "id": "600bdccf-c6ec-4a30-92f7-de239ab7e1fd",
   "metadata": {},
   "outputs": [
    {
     "name": "stdout",
     "output_type": "stream",
     "text": [
      "+-----+--------------+\n",
      "|price|squared(price)|\n",
      "+-----+--------------+\n",
      "|31200|     973440000|\n",
      "|41200|    1697440000|\n",
      "|31500|     992250000|\n",
      "|21500|     462250000|\n",
      "|51000|    2601000000|\n",
      "+-----+--------------+\n",
      "\n"
     ]
    }
   ],
   "source": [
    "spark.sql('select price, squared(price) from product').show()"
   ]
  },
  {
   "cell_type": "code",
   "execution_count": 10,
   "id": "dae6936f-0d7a-445d-b13e-3358d0c5d1ee",
   "metadata": {},
   "outputs": [],
   "source": [
    "def read_number( n ) :\n",
    "    units = [\"\", \"십\", \"백\", \"천\", \"만\"]\n",
    "    nums = '일이삼사오육칠팔구'\n",
    "    result = []\n",
    "    i=0\n",
    "    while n>0:\n",
    "        n,r = divmod(n,10)\n",
    "        if r>0:\n",
    "            result.append(nums[r-1]+units[i])\n",
    "        i += 1\n",
    "    return \"\".join(reversed(result))"
   ]
  },
  {
   "cell_type": "code",
   "execution_count": 11,
   "id": "517eb448-f0fc-4294-ae4b-64fb9918fa88",
   "metadata": {},
   "outputs": [
    {
     "data": {
      "text/plain": [
       "'일백이십삼'"
      ]
     },
     "execution_count": 11,
     "metadata": {},
     "output_type": "execute_result"
    }
   ],
   "source": [
    "read_number(123)"
   ]
  },
  {
   "cell_type": "code",
   "execution_count": 12,
   "id": "d998c6d2-1f6d-4ede-be7c-cffe1051e68e",
   "metadata": {},
   "outputs": [
    {
     "data": {
      "text/plain": [
       "<function __main__.read_number(n)>"
      ]
     },
     "execution_count": 12,
     "metadata": {},
     "output_type": "execute_result"
    }
   ],
   "source": [
    "spark.udf.register('read_number', read_number)"
   ]
  },
  {
   "cell_type": "code",
   "execution_count": 13,
   "id": "d61d17c8-f68f-4e18-946c-8a91822df986",
   "metadata": {},
   "outputs": [
    {
     "name": "stdout",
     "output_type": "stream",
     "text": [
      "+-----+------------------+\n",
      "|price|read_number(price)|\n",
      "+-----+------------------+\n",
      "|31200|      삼만일천이백|\n",
      "|41200|      사만일천이백|\n",
      "|31500|      삼만일천오백|\n",
      "|21500|      이만일천오백|\n",
      "|51000|          오만일천|\n",
      "+-----+------------------+\n",
      "\n"
     ]
    }
   ],
   "source": [
    "spark.sql('select price, read_number(price) from product').show()"
   ]
  },
  {
   "cell_type": "code",
   "execution_count": 14,
   "id": "74d4c863-9828-4318-8f63-7501063af98a",
   "metadata": {},
   "outputs": [],
   "source": [
    "spark.stop()"
   ]
  },
  {
   "cell_type": "code",
   "execution_count": null,
   "id": "29e5a0cc-ccb9-4f9f-b6e0-31da20fea04a",
   "metadata": {},
   "outputs": [],
   "source": []
  }
 ],
 "metadata": {
  "kernelspec": {
   "display_name": "Python (spark_start)",
   "language": "python",
   "name": "spark_start"
  },
  "language_info": {
   "codemirror_mode": {
    "name": "ipython",
    "version": 3
   },
   "file_extension": ".py",
   "mimetype": "text/x-python",
   "name": "python",
   "nbconvert_exporter": "python",
   "pygments_lexer": "ipython3",
   "version": "3.8.20"
  }
 },
 "nbformat": 4,
 "nbformat_minor": 5
}

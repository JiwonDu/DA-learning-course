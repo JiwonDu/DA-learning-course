{
 "cells": [
  {
   "cell_type": "code",
   "execution_count": 48,
   "id": "d31ea0cd",
   "metadata": {},
   "outputs": [],
   "source": [
    "from pyspark.sql import SparkSession\n",
    "spark = SparkSession.builder.appName(\"24120901_sf_fire_calls_App\").getOrCreate()"
   ]
  },
  {
   "cell_type": "code",
   "execution_count": 49,
   "id": "420e71ff",
   "metadata": {},
   "outputs": [],
   "source": [
    "df = spark.read.format('csv').load('data/sf-fire-calls.csv')"
   ]
  },
  {
   "cell_type": "code",
   "execution_count": 50,
   "id": "e054a41a-91fb-40dd-a069-c0d48b025fa9",
   "metadata": {
    "scrolled": true
   },
   "outputs": [
    {
     "name": "stdout",
     "output_type": "stream",
     "text": [
      "root\n",
      " |-- _c0: string (nullable = true)\n",
      " |-- _c1: string (nullable = true)\n",
      " |-- _c2: string (nullable = true)\n",
      " |-- _c3: string (nullable = true)\n",
      " |-- _c4: string (nullable = true)\n",
      " |-- _c5: string (nullable = true)\n",
      " |-- _c6: string (nullable = true)\n",
      " |-- _c7: string (nullable = true)\n",
      " |-- _c8: string (nullable = true)\n",
      " |-- _c9: string (nullable = true)\n",
      " |-- _c10: string (nullable = true)\n",
      " |-- _c11: string (nullable = true)\n",
      " |-- _c12: string (nullable = true)\n",
      " |-- _c13: string (nullable = true)\n",
      " |-- _c14: string (nullable = true)\n",
      " |-- _c15: string (nullable = true)\n",
      " |-- _c16: string (nullable = true)\n",
      " |-- _c17: string (nullable = true)\n",
      " |-- _c18: string (nullable = true)\n",
      " |-- _c19: string (nullable = true)\n",
      " |-- _c20: string (nullable = true)\n",
      " |-- _c21: string (nullable = true)\n",
      " |-- _c22: string (nullable = true)\n",
      " |-- _c23: string (nullable = true)\n",
      " |-- _c24: string (nullable = true)\n",
      " |-- _c25: string (nullable = true)\n",
      " |-- _c26: string (nullable = true)\n",
      " |-- _c27: string (nullable = true)\n",
      "\n"
     ]
    }
   ],
   "source": [
    "df.printSchema()"
   ]
  },
  {
   "cell_type": "code",
   "execution_count": 51,
   "id": "75f5054c-54a5-425f-9248-b7de341e0463",
   "metadata": {},
   "outputs": [],
   "source": [
    "from pyspark.sql.types import *\n",
    "\n",
    "fire_schema = StructType([\n",
    "    StructField('CallNumber', IntegerType(), True),\n",
    "    StructField('UnitID', StringType(), True),\n",
    "    StructField('IncidentNumber', IntegerType(), True),\n",
    "    StructField('CallType', StringType(), True),\n",
    "    StructField('CallDate', StringType(), True),\n",
    "    StructField('WatchDate', StringType(), True),\n",
    "    StructField('CallFinalDisposition', StringType(), True),\n",
    "    StructField('AvailableDtTm', StringType(), True),\n",
    "    StructField('Address', StringType(), True),\n",
    "    StructField('City', StringType(), True),\n",
    "    StructField('Zipcode', StringType(), True),\n",
    "    StructField('Battalion', StringType(), True),\n",
    "    StructField('StationArea', StringType(), True),\n",
    "    StructField('Box', StringType(), True),\n",
    "    StructField('OriginalPriority', IntegerType(), True),\n",
    "    StructField('Priority', IntegerType(), True),\n",
    "    StructField('FinalPriority', IntegerType(), True),\n",
    "    StructField('ALSUnit', StringType(), True),\n",
    "    StructField('CallTypeGroup', StringType(), True),\n",
    "    StructField('NumAlarms', IntegerType(), True),\n",
    "    StructField('UnitType', StringType(), True),\n",
    "    StructField('UnitSequenceInCallDispatch', IntegerType(), True),\n",
    "    StructField('FirePreventionDistrict', StringType(), True),\n",
    "    StructField('SupervisorDistrict', StringType(), True),\n",
    "    StructField('Neighborhood', StringType(), True),\n",
    "    StructField('Location', StringType(), True),\n",
    "    StructField('RowID', StringType(), True),\n",
    "    StructField('Delay', FloatType(), True)\n",
    "])"
   ]
  },
  {
   "cell_type": "code",
   "execution_count": 52,
   "id": "479e1bef-c157-468f-a3ad-6953130c7284",
   "metadata": {},
   "outputs": [],
   "source": [
    "fire_df = spark.read.csv('data/sf-fire-calls.csv', header=True, schema=fire_schema)"
   ]
  },
  {
   "cell_type": "code",
   "execution_count": 53,
   "id": "49c8745c-a5b0-48a0-88ca-ee7e935a9d26",
   "metadata": {},
   "outputs": [],
   "source": [
    "from pyspark.sql.functions import *"
   ]
  },
  {
   "cell_type": "code",
   "execution_count": 54,
   "id": "4a65140e-de01-4b9f-8278-20deab5f9de2",
   "metadata": {},
   "outputs": [
    {
     "name": "stdout",
     "output_type": "stream",
     "text": [
      "+-----------------+\n",
      "|DistinctCallTypes|\n",
      "+-----------------+\n",
      "|               30|\n",
      "+-----------------+\n",
      "\n"
     ]
    },
    {
     "name": "stderr",
     "output_type": "stream",
     "text": [
      "                                                                                "
     ]
    }
   ],
   "source": [
    "# 화재 신고로 기록된 CallType 종류\n",
    "\n",
    "(fire_df\n",
    "    .select(\"CallType\")\n",
    "    .where(col(\"CallType\").isNotNull())\n",
    "    .agg(countDistinct(\"CallType\").alias(\"DistinctCallTypes\"))\n",
    ".show())"
   ]
  },
  {
   "cell_type": "code",
   "execution_count": 55,
   "id": "cb6df8a4-b813-42ff-82e0-c5f916bafa2e",
   "metadata": {},
   "outputs": [
    {
     "name": "stdout",
     "output_type": "stream",
     "text": [
      "+-----------------------------------+\n",
      "|CallType                           |\n",
      "+-----------------------------------+\n",
      "|Elevator / Escalator Rescue        |\n",
      "|Marine Fire                        |\n",
      "|Aircraft Emergency                 |\n",
      "|Confined Space / Structure Collapse|\n",
      "|Administrative                     |\n",
      "|Alarms                             |\n",
      "|Odor (Strange / Unknown)           |\n",
      "|Citizen Assist / Service Call      |\n",
      "|HazMat                             |\n",
      "|Watercraft in Distress             |\n",
      "+-----------------------------------+\n",
      "only showing top 10 rows\n",
      "\n"
     ]
    }
   ],
   "source": [
    "# null이 아닌 신고 타입 목록\n",
    "\n",
    "(fire_df\n",
    " .select(\"CallType\")\n",
    " .where(col(\"CallType\").isNotNull())\n",
    " .distinct()\n",
    " .show(10, False))"
   ]
  },
  {
   "cell_type": "code",
   "execution_count": 56,
   "id": "47857826-11b3-4666-86a6-f69dacb0c43c",
   "metadata": {},
   "outputs": [
    {
     "name": "stdout",
     "output_type": "stream",
     "text": [
      "+-------------------+\n",
      "|ResponseDelayinMins|\n",
      "+-------------------+\n",
      "|5.35               |\n",
      "|6.25               |\n",
      "|5.2                |\n",
      "|5.6                |\n",
      "|7.25               |\n",
      "+-------------------+\n",
      "only showing top 5 rows\n",
      "\n"
     ]
    }
   ],
   "source": [
    "# 칼럼 이름 변경 및 응답시간 5분 이상 출력\n",
    "new_fire_df = fire_df.withColumnRenamed(\"Delay\", \"ResponseDelayinMins\")\n",
    "(new_fire_df\n",
    " .select(\"ResponseDelayinMins\")\n",
    " .where(col(\"ResponseDelayinMins\") > 5)\n",
    " .show(5, False))"
   ]
  },
  {
   "cell_type": "code",
   "execution_count": 57,
   "id": "b15cabdf-0456-4863-b237-2d96a13b4b81",
   "metadata": {},
   "outputs": [
    {
     "name": "stdout",
     "output_type": "stream",
     "text": [
      "+-------------------+-------------------+-------------------+\n",
      "|IncidentDate       |ArrivalDate        |AvailableDtTS      |\n",
      "+-------------------+-------------------+-------------------+\n",
      "|2002-01-11 00:00:00|2002-01-10 00:00:00|2002-01-11 01:51:44|\n",
      "|2002-01-11 00:00:00|2002-01-10 00:00:00|2002-01-11 03:01:18|\n",
      "|2002-01-11 00:00:00|2002-01-10 00:00:00|2002-01-11 02:39:50|\n",
      "|2002-01-11 00:00:00|2002-01-10 00:00:00|2002-01-11 04:16:46|\n",
      "|2002-01-11 00:00:00|2002-01-10 00:00:00|2002-01-11 06:01:58|\n",
      "+-------------------+-------------------+-------------------+\n",
      "only showing top 5 rows\n",
      "\n"
     ]
    }
   ],
   "source": [
    "# 칼럼 데이터 타입 변경\n",
    "fire_ts_df = (new_fire_df\n",
    "    .withColumn('IncidentDate', to_timestamp('CallDate', 'MM/dd/yyyy'))\n",
    "    .drop('CallDate')\n",
    "    .withColumn('ArrivalDate', to_timestamp('WatchDate', 'MM/dd/yyyy'))\n",
    "    .drop('WatchDate')\n",
    "    .withColumn('AvailableDtTS', to_timestamp('AvailableDtTm', 'MM/dd/yyyy hh:mm:ss a'))\n",
    "    .drop('AvailableDtTm')\n",
    ")\n",
    "\n",
    "# 변환된 칼럼 호출\n",
    "(fire_ts_df\n",
    "    .select('IncidentDate', 'ArrivalDate', 'AvailableDtTS')\n",
    "    .show(5, False))"
   ]
  },
  {
   "cell_type": "code",
   "execution_count": 58,
   "id": "92e51864-b586-4dcb-9586-835b9c3d6be5",
   "metadata": {},
   "outputs": [
    {
     "name": "stderr",
     "output_type": "stream",
     "text": [
      "[Stage 15:=============================================>        (167 + 2) / 200]"
     ]
    },
    {
     "name": "stdout",
     "output_type": "stream",
     "text": [
      "+------------------+\n",
      "|year(IncidentDate)|\n",
      "+------------------+\n",
      "|              2000|\n",
      "|              2001|\n",
      "|              2002|\n",
      "|              2003|\n",
      "|              2004|\n",
      "|              2005|\n",
      "|              2006|\n",
      "|              2007|\n",
      "|              2008|\n",
      "|              2009|\n",
      "|              2010|\n",
      "|              2011|\n",
      "|              2012|\n",
      "|              2013|\n",
      "|              2014|\n",
      "|              2015|\n",
      "|              2016|\n",
      "|              2017|\n",
      "|              2018|\n",
      "+------------------+\n",
      "\n"
     ]
    },
    {
     "name": "stderr",
     "output_type": "stream",
     "text": [
      "                                                                                "
     ]
    }
   ],
   "source": [
    "# 소방서 호출 기간 확인\n",
    "(fire_ts_df\n",
    "    .select(year('IncidentDate'))\n",
    "    .distinct()\n",
    "    .orderBy(year('IncidentDate'))\n",
    "    .show())"
   ]
  },
  {
   "cell_type": "code",
   "execution_count": 59,
   "id": "f362e4a0-199d-43b2-989c-2a583af0a697",
   "metadata": {},
   "outputs": [
    {
     "name": "stdout",
     "output_type": "stream",
     "text": [
      "+-------------------------------+------+\n",
      "|CallType                       |count |\n",
      "+-------------------------------+------+\n",
      "|Medical Incident               |113794|\n",
      "|Structure Fire                 |23319 |\n",
      "|Alarms                         |19406 |\n",
      "|Traffic Collision              |7013  |\n",
      "|Citizen Assist / Service Call  |2524  |\n",
      "|Other                          |2166  |\n",
      "|Outside Fire                   |2094  |\n",
      "|Vehicle Fire                   |854   |\n",
      "|Gas Leak (Natural and LP Gases)|764   |\n",
      "|Water Rescue                   |755   |\n",
      "+-------------------------------+------+\n",
      "only showing top 10 rows\n",
      "\n"
     ]
    },
    {
     "name": "stderr",
     "output_type": "stream",
     "text": [
      "                                                                                "
     ]
    }
   ],
   "source": [
    "# 가장 흔한 형태의 신고 확인\n",
    "(fire_ts_df\n",
    "    .select('CallType')\n",
    "    .where(col('CallType').isNotNull())\n",
    "    .groupBy('CallType')\n",
    "    .count()\n",
    "    .orderBy('count', ascending=False)\n",
    "    .show(10, truncate=False))"
   ]
  },
  {
   "cell_type": "code",
   "execution_count": 60,
   "id": "83355b31-f988-481a-8a9b-2b6885c97e54",
   "metadata": {},
   "outputs": [
    {
     "name": "stdout",
     "output_type": "stream",
     "text": [
      "+--------------+------------------------+------------------------+------------------------+\n",
      "|sum(NumAlarms)|avg(ResponseDelayinMins)|min(ResponseDelayinMins)|max(ResponseDelayinMins)|\n",
      "+--------------+------------------------+------------------------+------------------------+\n",
      "|        176170|       3.892364154521585|             0.016666668|                 1844.55|\n",
      "+--------------+------------------------+------------------------+------------------------+\n",
      "\n"
     ]
    }
   ],
   "source": [
    "# 경보 횟수의 합, 응답시간 평균, 모든 신고에 대한 최소/최장 응답 시간 등을 구하기\n",
    "import pyspark.sql.functions as F\n",
    "(fire_ts_df\n",
    "    .select(F.sum(\"NumAlarms\"), \n",
    "            F.avg(\"ResponseDelayinMins\"), \n",
    "            F.min(\"ResponseDelayinMins\"), \n",
    "            F.max(\"ResponseDelayinMins\"))\n",
    "    .show())"
   ]
  },
  {
   "cell_type": "code",
   "execution_count": 61,
   "id": "4801e51f-6177-4b73-86f4-92d6d317325f",
   "metadata": {},
   "outputs": [
    {
     "name": "stdout",
     "output_type": "stream",
     "text": [
      "+-------------------------------+\n",
      "|CallType                       |\n",
      "+-------------------------------+\n",
      "|Alarms                         |\n",
      "|Assist Police                  |\n",
      "|Citizen Assist / Service Call  |\n",
      "|Electrical Hazard              |\n",
      "|Elevator / Escalator Rescue    |\n",
      "|Explosion                      |\n",
      "|Fuel Spill                     |\n",
      "|Gas Leak (Natural and LP Gases)|\n",
      "|HazMat                         |\n",
      "|Medical Incident               |\n",
      "|Odor (Strange / Unknown)       |\n",
      "|Other                          |\n",
      "|Outside Fire                   |\n",
      "|Smoke Investigation (Outside)  |\n",
      "|Structure Fire                 |\n",
      "|Suspicious Package             |\n",
      "|Traffic Collision              |\n",
      "|Train / Rail Incident          |\n",
      "|Vehicle Fire                   |\n",
      "|Water Rescue                   |\n",
      "+-------------------------------+\n",
      "\n"
     ]
    }
   ],
   "source": [
    "# 2018년에 왔던 신고 전화들의 모든 유형\n",
    "(fire_ts_df\n",
    "    .filter(F.year(\"IncidentDate\") == 2018)\n",
    "    .select(\"CallType\")\n",
    "    .distinct()\n",
    "    .orderBy(\"CallType\")\n",
    "    .show(100, False))"
   ]
  },
  {
   "cell_type": "code",
   "execution_count": 62,
   "id": "370cbe41-877a-40ae-8de0-4d15bff1fb04",
   "metadata": {},
   "outputs": [
    {
     "name": "stdout",
     "output_type": "stream",
     "text": [
      "+-----+---------+\n",
      "|Month|CallCount|\n",
      "+-----+---------+\n",
      "|   10|     1068|\n",
      "|    5|     1047|\n",
      "|    3|     1029|\n",
      "|    8|     1021|\n",
      "|    1|     1007|\n",
      "|    7|      974|\n",
      "|    6|      974|\n",
      "|    9|      951|\n",
      "|    4|      947|\n",
      "|    2|      919|\n",
      "|   11|      199|\n",
      "+-----+---------+\n",
      "\n"
     ]
    }
   ],
   "source": [
    "# 2018년에 신고 전화가 가장 많았던 달\n",
    "(fire_ts_df\n",
    "    .filter(F.year(\"IncidentDate\") == 2018)\n",
    "    .groupBy(F.month(\"IncidentDate\").alias(\"Month\"))\n",
    "    .agg(F.count(\"*\").alias(\"CallCount\"))\n",
    "    .orderBy(F.desc(\"CallCount\"))\n",
    "    .show())"
   ]
  },
  {
   "cell_type": "code",
   "execution_count": 63,
   "id": "e3fbb346-8efc-4f59-a82f-007dd81150f5",
   "metadata": {},
   "outputs": [
    {
     "name": "stderr",
     "output_type": "stream",
     "text": [
      "[Stage 24:>                                                         (0 + 2) / 2]"
     ]
    },
    {
     "name": "stdout",
     "output_type": "stream",
     "text": [
      "+------------------------------+---------+\n",
      "|Neighborhood                  |CallCount|\n",
      "+------------------------------+---------+\n",
      "|Tenderloin                    |1393     |\n",
      "|South of Market               |1053     |\n",
      "|Mission                       |913      |\n",
      "|Financial District/South Beach|772      |\n",
      "|Bayview Hunters Point         |522      |\n",
      "|Western Addition              |352      |\n",
      "|Sunset/Parkside               |346      |\n",
      "|Nob Hill                      |295      |\n",
      "|Hayes Valley                  |291      |\n",
      "|Outer Richmond                |262      |\n",
      "+------------------------------+---------+\n",
      "only showing top 10 rows\n",
      "\n"
     ]
    },
    {
     "name": "stderr",
     "output_type": "stream",
     "text": [
      "                                                                                "
     ]
    }
   ],
   "source": [
    "# 2018년에 가장 많은 신고가 들어온 샌프란 시스코 지역\n",
    "(fire_ts_df\n",
    "    .filter(F.year(\"IncidentDate\") == 2018)\n",
    "    .groupBy(\"Neighborhood\")\n",
    "    .agg(F.count(\"*\").alias(\"CallCount\"))\n",
    "    .orderBy(F.desc(\"CallCount\"))\n",
    "    .show(10, False))"
   ]
  },
  {
   "cell_type": "code",
   "execution_count": 64,
   "id": "6bbd31d7-1312-47d6-aac6-e307ff355d76",
   "metadata": {},
   "outputs": [
    {
     "name": "stdout",
     "output_type": "stream",
     "text": [
      "+------------------------------+-----------------+---------+\n",
      "|Neighborhood                  |AvgResponseTime  |CallCount|\n",
      "+------------------------------+-----------------+---------+\n",
      "|Chinatown                     |6.190314101143033|191      |\n",
      "|Presidio                      |5.829227011272873|69       |\n",
      "|Treasure Island               |5.453703684111436|72       |\n",
      "|McLaren Park                  |4.74404764175415 |14       |\n",
      "|Bayview Hunters Point         |4.620561962212182|522      |\n",
      "|Presidio Heights              |4.594131482319093|71       |\n",
      "|Inner Sunset                  |4.438095217981896|154      |\n",
      "|Inner Richmond                |4.364728709292966|129      |\n",
      "|Financial District/South Beach|4.344084616885593|772      |\n",
      "|Haight Ashbury                |4.266428579390049|140      |\n",
      "+------------------------------+-----------------+---------+\n",
      "only showing top 10 rows\n",
      "\n"
     ]
    },
    {
     "name": "stderr",
     "output_type": "stream",
     "text": [
      "                                                                                "
     ]
    }
   ],
   "source": [
    "# 2018년에 가장 응답 시간이 늦었던 지역\n",
    "(fire_ts_df\n",
    "    .filter(F.year(\"IncidentDate\") == 2018)\n",
    "    .groupBy(\"Neighborhood\")\n",
    "    .agg(\n",
    "        F.avg(\"ResponseDelayinMins\").alias(\"AvgResponseTime\"),\n",
    "        F.count(\"*\").alias(\"CallCount\")\n",
    "    )\n",
    "    .orderBy(F.desc(\"AvgResponseTime\"))\n",
    "    .show(10, False))"
   ]
  },
  {
   "cell_type": "code",
   "execution_count": 65,
   "id": "f2bb0813-4473-417d-b648-e7c515712db4",
   "metadata": {},
   "outputs": [
    {
     "name": "stdout",
     "output_type": "stream",
     "text": [
      "+----+---------+\n",
      "|Week|CallCount|\n",
      "+----+---------+\n",
      "|22  |259      |\n",
      "|40  |255      |\n",
      "|43  |250      |\n",
      "|25  |249      |\n",
      "|1   |246      |\n",
      "|44  |244      |\n",
      "|13  |243      |\n",
      "|32  |243      |\n",
      "|11  |240      |\n",
      "|5   |236      |\n",
      "|18  |236      |\n",
      "|23  |235      |\n",
      "|2   |234      |\n",
      "|42  |234      |\n",
      "|31  |234      |\n",
      "|19  |233      |\n",
      "|34  |232      |\n",
      "|8   |232      |\n",
      "|10  |232      |\n",
      "|21  |231      |\n",
      "|28  |231      |\n",
      "|16  |228      |\n",
      "|9   |228      |\n",
      "|7   |228      |\n",
      "|38  |226      |\n",
      "|20  |225      |\n",
      "|14  |225      |\n",
      "|6   |225      |\n",
      "|33  |225      |\n",
      "|3   |224      |\n",
      "|39  |224      |\n",
      "|27  |223      |\n",
      "|37  |223      |\n",
      "|26  |223      |\n",
      "|29  |223      |\n",
      "|15  |222      |\n",
      "|35  |221      |\n",
      "|12  |221      |\n",
      "|41  |220      |\n",
      "|30  |203      |\n",
      "|17  |203      |\n",
      "|36  |203      |\n",
      "|4   |202      |\n",
      "|24  |198      |\n",
      "|45  |64       |\n",
      "+----+---------+\n",
      "\n"
     ]
    }
   ],
   "source": [
    "# 2018년에 신고가 가장 많은 주(Week)\n",
    "(fire_ts_df\n",
    "    .filter(F.year(\"IncidentDate\") == 2018)\n",
    "    .groupBy(F.weekofyear(\"IncidentDate\").alias(\"Week\"))\n",
    "    .agg(F.count(\"*\").alias(\"CallCount\"))\n",
    "    .orderBy(F.desc(\"CallCount\"))\n",
    "    .show(53, False))  # 1년은 최대 53주까지 있을 수 있음"
   ]
  },
  {
   "cell_type": "code",
   "execution_count": 66,
   "id": "3ecc06ca-e872-4bb6-83aa-7360e0c9ee63",
   "metadata": {},
   "outputs": [
    {
     "name": "stdout",
     "output_type": "stream",
     "text": [
      "+------------------------------+-------+---------+\n",
      "|Neighborhood                  |Zipcode|CallCount|\n",
      "+------------------------------+-------+---------+\n",
      "|Tenderloin                    |94102  |17084    |\n",
      "|South of Market               |94103  |13762    |\n",
      "|Mission                       |94110  |10444    |\n",
      "|Bayview Hunters Point         |94124  |9150     |\n",
      "|Mission                       |94103  |5445     |\n",
      "|Tenderloin                    |94109  |5377     |\n",
      "|Financial District/South Beach|94105  |4235     |\n",
      "|Outer Richmond                |94121  |4121     |\n",
      "|Nob Hill                      |94109  |3983     |\n",
      "|Castro/Upper Market           |94114  |3946     |\n",
      "|Western Addition              |94115  |3934     |\n",
      "|North Beach                   |94133  |3706     |\n",
      "|Sunset/Parkside               |94122  |3404     |\n",
      "|Marina                        |94123  |3360     |\n",
      "|Excelsior                     |94112  |3237     |\n",
      "|Bernal Heights                |94110  |3109     |\n",
      "|Sunset/Parkside               |94116  |3025     |\n",
      "|Hayes Valley                  |94102  |2814     |\n",
      "|Lakeshore                     |94132  |2658     |\n",
      "|Outer Mission                 |94112  |2608     |\n",
      "+------------------------------+-------+---------+\n",
      "only showing top 20 rows\n",
      "\n"
     ]
    }
   ],
   "source": [
    "# 지역, 우편번호, 신고 숫자 간의 상관관계\n",
    "(fire_ts_df\n",
    "    .groupBy(\"Neighborhood\", \"Zipcode\")\n",
    "    .agg(F.count(\"*\").alias(\"CallCount\"))\n",
    "    .orderBy(F.desc(\"CallCount\"))\n",
    "    .show(20, False))"
   ]
  },
  {
   "cell_type": "markdown",
   "id": "dc660ffc-5741-4fc5-93d5-987485bc1b5c",
   "metadata": {},
   "source": [
    "# 데이터 저장 및 읽기\n",
    "\n",
    "## 파케이 파일\n",
    "**파케이 파일로 저장**\n",
    "fire_ts_df.write.parquet(\"fire_calls.parquet\")\n",
    "\n",
    "**파케이 파일 읽기**\n",
    "parquet_df = spark.read.parquet(\"fire_calls.parquet\")\n",
    "\n",
    "## SQL 테이블\n",
    "**임시 뷰 생성**\n",
    "fire_ts_df.createOrReplaceTempView(\"fire_calls\")\n",
    "\n",
    "**SQL 쿼리로 데이터 읽기**\n",
    "sql_df = spark.sql(\"SELECT * FROM fire_calls\")\n",
    "\n",
    "**영구 테이블로 저장**\n",
    "fire_ts_df.write.saveAsTable(\"fire_calls_table\")\n",
    "\n",
    "**영구 테이블에서 읽기**\n",
    "table_df = spark.table(\"fire_calls_table\")"
   ]
  },
  {
   "cell_type": "markdown",
   "id": "2c166270-fab1-4d6d-beff-00518da52220",
   "metadata": {},
   "source": [
    "# ➕ 추가 분석"
   ]
  },
  {
   "cell_type": "code",
   "execution_count": 67,
   "id": "b9d5d522-ffbc-49af-92e6-02485fd1629e",
   "metadata": {},
   "outputs": [
    {
     "name": "stderr",
     "output_type": "stream",
     "text": [
      "[Stage 32:=============================>                            (1 + 1) / 2]"
     ]
    },
    {
     "name": "stdout",
     "output_type": "stream",
     "text": [
      "+----+---------+\n",
      "|hour|CallCount|\n",
      "+----+---------+\n",
      "|null|     1794|\n",
      "|   0|     5851|\n",
      "|   1|     5418|\n",
      "|   2|     5144|\n",
      "|   3|     4291|\n",
      "|   4|     3573|\n",
      "|   5|     3265|\n",
      "|   6|     3455|\n",
      "|   7|     4589|\n",
      "|   8|     5930|\n",
      "|   9|     7325|\n",
      "|  10|     8419|\n",
      "|  11|     8989|\n",
      "|  12|     9476|\n",
      "|  13|     9515|\n",
      "|  14|     9535|\n",
      "|  15|     9538|\n",
      "|  16|     9574|\n",
      "|  17|     9720|\n",
      "|  18|     9637|\n",
      "|  19|     9375|\n",
      "|  20|     8814|\n",
      "|  21|     8009|\n",
      "|  22|     7440|\n",
      "|  23|     6620|\n",
      "+----+---------+\n",
      "\n"
     ]
    },
    {
     "name": "stderr",
     "output_type": "stream",
     "text": [
      "                                                                                "
     ]
    }
   ],
   "source": [
    "# 시간대별 패턴 분석\n",
    "#시간대별 신고 건수: \"하루 24시간 중 몇 시에 신고가 가장 많이 들어왔나요?\"\n",
    "\n",
    "(fire_ts_df\n",
    "    .select(hour('AvailableDtTS').alias('hour'))\n",
    "    .groupBy('hour')\n",
    "    .agg(count('*').alias('CallCount'))\n",
    "    .orderBy('hour')\n",
    "    .show(25))"
   ]
  },
  {
   "cell_type": "code",
   "execution_count": 68,
   "id": "0f1564aa-a4fc-4d9d-bc3a-79e54c97693c",
   "metadata": {
    "scrolled": true
   },
   "outputs": [
    {
     "name": "stdout",
     "output_type": "stream",
     "text": [
      "Requirement already satisfied: pandas in /home/ubuntu/anaconda3/envs/spark_start/lib/python3.8/site-packages (2.0.3)\n",
      "Requirement already satisfied: matplotlib in /home/ubuntu/anaconda3/envs/spark_start/lib/python3.8/site-packages (3.7.5)\n",
      "Requirement already satisfied: python-dateutil>=2.8.2 in /home/ubuntu/anaconda3/envs/spark_start/lib/python3.8/site-packages (from pandas) (2.9.0.post0)\n",
      "Requirement already satisfied: pytz>=2020.1 in /home/ubuntu/anaconda3/envs/spark_start/lib/python3.8/site-packages (from pandas) (2024.2)\n",
      "Requirement already satisfied: tzdata>=2022.1 in /home/ubuntu/anaconda3/envs/spark_start/lib/python3.8/site-packages (from pandas) (2024.2)\n",
      "Requirement already satisfied: numpy>=1.20.3 in /home/ubuntu/anaconda3/envs/spark_start/lib/python3.8/site-packages (from pandas) (1.24.4)\n",
      "Requirement already satisfied: contourpy>=1.0.1 in /home/ubuntu/anaconda3/envs/spark_start/lib/python3.8/site-packages (from matplotlib) (1.1.1)\n",
      "Requirement already satisfied: cycler>=0.10 in /home/ubuntu/anaconda3/envs/spark_start/lib/python3.8/site-packages (from matplotlib) (0.12.1)\n",
      "Requirement already satisfied: fonttools>=4.22.0 in /home/ubuntu/anaconda3/envs/spark_start/lib/python3.8/site-packages (from matplotlib) (4.55.2)\n",
      "Requirement already satisfied: kiwisolver>=1.0.1 in /home/ubuntu/anaconda3/envs/spark_start/lib/python3.8/site-packages (from matplotlib) (1.4.7)\n",
      "Requirement already satisfied: packaging>=20.0 in /home/ubuntu/anaconda3/envs/spark_start/lib/python3.8/site-packages (from matplotlib) (24.2)\n",
      "Requirement already satisfied: pillow>=6.2.0 in /home/ubuntu/anaconda3/envs/spark_start/lib/python3.8/site-packages (from matplotlib) (10.4.0)\n",
      "Requirement already satisfied: pyparsing>=2.3.1 in /home/ubuntu/anaconda3/envs/spark_start/lib/python3.8/site-packages (from matplotlib) (3.1.4)\n",
      "Requirement already satisfied: importlib-resources>=3.2.0 in /home/ubuntu/anaconda3/envs/spark_start/lib/python3.8/site-packages (from matplotlib) (6.4.5)\n",
      "Requirement already satisfied: zipp>=3.1.0 in /home/ubuntu/anaconda3/envs/spark_start/lib/python3.8/site-packages (from importlib-resources>=3.2.0->matplotlib) (3.20.2)\n",
      "Requirement already satisfied: six>=1.5 in /home/ubuntu/anaconda3/envs/spark_start/lib/python3.8/site-packages (from python-dateutil>=2.8.2->pandas) (1.16.0)\n"
     ]
    }
   ],
   "source": [
    "!pip install pandas matplotlib"
   ]
  },
  {
   "cell_type": "code",
   "execution_count": 69,
   "id": "8afed7c9-8348-44b8-9b75-248eae5f3259",
   "metadata": {},
   "outputs": [
    {
     "data": {
      "image/png": "[encoded data removed]",
      "text/plain": [
       "<Figure size 1200x600 with 1 Axes>"
      ]
     },
     "metadata": {},
     "output_type": "display_data"
    },
    {
     "name": "stdout",
     "output_type": "stream",
     "text": [
      "\n",
      "Basic Statistics:\n",
      "Busiest hour: 17:00 with 9720 calls\n",
      "Quietest hour: 5:00 with 3265 calls\n"
     ]
    }
   ],
   "source": [
    "import pandas as pd\n",
    "import matplotlib.pyplot as plt\n",
    "\n",
    "# 기본 폰트를 'DejaVu Sans'로 설정 (대부분의 시스템에 기본으로 설치되어 있음)\n",
    "plt.rcParams['font.family'] = 'DejaVu Sans'\n",
    "plt.rcParams['font.sans-serif'] = ['DejaVu Sans']\n",
    "\n",
    "# 데이터 준비\n",
    "hour_counts = (fire_ts_df\n",
    "    .select(hour('AvailableDtTS').alias('hour'))\n",
    "    .groupBy('hour')\n",
    "    .agg(count('*').alias('CallCount'))\n",
    "    .filter('hour is not null')\n",
    "    .orderBy('hour')\n",
    "    .toPandas())\n",
    "\n",
    "# 그래프 설정\n",
    "plt.figure(figsize=(12, 6))\n",
    "\n",
    "# 막대 그래프 그리기\n",
    "plt.bar(hour_counts['hour'], hour_counts['CallCount'], color='skyblue')\n",
    "\n",
    "# 그래프 꾸미기\n",
    "plt.title('Number of Emergency Calls by Hour', pad=15)\n",
    "plt.xlabel('Hour (24-hour format)')\n",
    "plt.ylabel('Number of Calls')\n",
    "\n",
    "# x축 눈금 설정\n",
    "plt.xticks(range(24))\n",
    "\n",
    "# 격자 추가\n",
    "plt.grid(True, axis='y', alpha=0.3)\n",
    "\n",
    "# 여백 조정\n",
    "plt.tight_layout()\n",
    "\n",
    "# 그래프 표시\n",
    "plt.show()\n",
    "\n",
    "# 기본 통계 출력\n",
    "print(\"\\nBasic Statistics:\")\n",
    "print(f\"Busiest hour: {hour_counts['CallCount'].idxmax()}:00 with {hour_counts['CallCount'].max()} calls\")\n",
    "print(f\"Quietest hour: {hour_counts['CallCount'].idxmin()}:00 with {hour_counts['CallCount'].min()} calls\")"
   ]
  },
  {
   "cell_type": "markdown",
   "id": "634cbefd-b76b-41f6-9fad-0765546e115d",
   "metadata": {},
   "source": [
    "> 분석\n",
    "\n",
    "* 시간대별 신고 건수:\n",
    "    - 가장 많은 신고: 오후 4-5시(17시) - 9,720건\n",
    "    - 가장 적은 신고: 새벽 5시 - 3,265건\n",
    "* 주요 패턴:\n",
    "    - 새벽 시간(0시-5시): 신고가 적음 (3,000-5,000건)\n",
    "    - 아침 시간(6시-9시): 점차 증가 (3,455 → 7,325건)\n",
    "    - 낮 시간(10시-17시): 가장 많음 (8,000-9,700건)\n",
    "    - 저녁 시간(18시-23시): 점차 감소 (9,637 → 7,440건)\n",
    "* 특이사항:\n",
    "    - null 값이 1,794건 있음 (시간 정보가 없는 신고들)\n",
    "    - 오후 2시부터 6시까지(14시-18시)가 가장 바쁜 시간대\n",
    "    - 새벽 5시가 가장 조용한 시간대\n",
    "\n",
    "> 제언\n",
    "\n",
    "- 오후 2-6시에는 더 많은 인력 필요\n",
    "- 새벽 시간에는 상대적으로 적은 인력으로 운영 가능\n",
    "- 아침 6시부터는 인력을 점차 증원하는 것이 좋음"
   ]
  },
  {
   "cell_type": "code",
   "execution_count": 70,
   "id": "9088e000-4283-4282-9e5a-a450e42ef7b3",
   "metadata": {},
   "outputs": [
    {
     "name": "stdout",
     "output_type": "stream",
     "text": [
      "+---------+---------+---------+\n",
      "|dayofweek| day_name|CallCount|\n",
      "+---------+---------+---------+\n",
      "|        1|   Sunday|    24758|\n",
      "|        2|   Monday|    24720|\n",
      "|        3|  Tuesday|    24467|\n",
      "|        4|Wednesday|    24755|\n",
      "|        5| Thursday|    24647|\n",
      "|        6|   Friday|    26048|\n",
      "|        7| Saturday|    25901|\n",
      "+---------+---------+---------+\n",
      "\n"
     ]
    }
   ],
   "source": [
    "from pyspark.sql.functions import when\n",
    "\n",
    "(fire_ts_df\n",
    "    .withColumn(\"dayofweek\", dayofweek(\"IncidentDate\"))\n",
    "    .withColumn(\"day_name\", \n",
    "        when(dayofweek(\"IncidentDate\") == 1, \"Sunday\")\n",
    "        .when(dayofweek(\"IncidentDate\") == 2, \"Monday\")\n",
    "        .when(dayofweek(\"IncidentDate\") == 3, \"Tuesday\")\n",
    "        .when(dayofweek(\"IncidentDate\") == 4, \"Wednesday\")\n",
    "        .when(dayofweek(\"IncidentDate\") == 5, \"Thursday\")\n",
    "        .when(dayofweek(\"IncidentDate\") == 6, \"Friday\")\n",
    "        .when(dayofweek(\"IncidentDate\") == 7, \"Saturday\"))\n",
    "    .groupBy(\"dayofweek\", \"day_name\")\n",
    "    .agg(count(\"*\").alias(\"CallCount\"))\n",
    "    .orderBy(\"dayofweek\")\n",
    "    .show())"
   ]
  },
  {
   "cell_type": "markdown",
   "id": "70716da7-f730-4964-80b5-bf35f6cd8d5b",
   "metadata": {},
   "source": [
    "> 분석\n",
    "\n",
    "- 가장 많은 신고: 금요일 (26,048건)\n",
    "- 가장 적은 신고: 화요일 (24,467건)\n",
    "- 주말과 주중 비교: 주말(일요일, 토요일)의 신고 수는 주중(월요일~금요일)보다 낮은 편임. 그러나 금요일은 신고 수가 많음."
   ]
  },
  {
   "cell_type": "code",
   "execution_count": 71,
   "id": "fbb4f084-824a-42fb-bb78-79507fbdd1e6",
   "metadata": {},
   "outputs": [],
   "source": [
    "spark.stop()"
   ]
  }
 ],
 "metadata": {
  "kernelspec": {
   "display_name": "Python (spark_start)",
   "language": "python",
   "name": "spark_start"
  },
  "language_info": {
   "codemirror_mode": {
    "name": "ipython",
    "version": 3
   },
   "file_extension": ".py",
   "mimetype": "text/x-python",
   "name": "python",
   "nbconvert_exporter": "python",
   "pygments_lexer": "ipython3",
   "version": "3.8.20"
  }
 },
 "nbformat": 4,
 "nbformat_minor": 5
}
